{
 "cells": [
  {
   "cell_type": "code",
   "execution_count": 1,
   "id": "08bde93c",
   "metadata": {},
   "outputs": [
    {
     "name": "stdout",
     "output_type": "stream",
     "text": [
      "Requirement already satisfied: category_encoders in c:\\users\\rqpua\\anaconda3\\lib\\site-packages (2.6.0)\n",
      "Requirement already satisfied: statsmodels>=0.9.0 in c:\\users\\rqpua\\anaconda3\\lib\\site-packages (from category_encoders) (0.13.2)\n",
      "Requirement already satisfied: scikit-learn>=0.20.0 in c:\\users\\rqpua\\anaconda3\\lib\\site-packages (from category_encoders) (1.0.2)\n",
      "Requirement already satisfied: pandas>=1.0.5 in c:\\users\\rqpua\\anaconda3\\lib\\site-packages (from category_encoders) (1.4.4)\n",
      "Requirement already satisfied: patsy>=0.5.1 in c:\\users\\rqpua\\anaconda3\\lib\\site-packages (from category_encoders) (0.5.2)\n",
      "Requirement already satisfied: numpy>=1.14.0 in c:\\users\\rqpua\\anaconda3\\lib\\site-packages (from category_encoders) (1.21.5)\n",
      "Requirement already satisfied: scipy>=1.0.0 in c:\\users\\rqpua\\anaconda3\\lib\\site-packages (from category_encoders) (1.9.1)\n",
      "Requirement already satisfied: python-dateutil>=2.8.1 in c:\\users\\rqpua\\anaconda3\\lib\\site-packages (from pandas>=1.0.5->category_encoders) (2.8.2)\n",
      "Requirement already satisfied: pytz>=2020.1 in c:\\users\\rqpua\\anaconda3\\lib\\site-packages (from pandas>=1.0.5->category_encoders) (2022.1)\n",
      "Requirement already satisfied: six in c:\\users\\rqpua\\anaconda3\\lib\\site-packages (from patsy>=0.5.1->category_encoders) (1.16.0)\n",
      "Requirement already satisfied: threadpoolctl>=2.0.0 in c:\\users\\rqpua\\anaconda3\\lib\\site-packages (from scikit-learn>=0.20.0->category_encoders) (2.2.0)\n",
      "Requirement already satisfied: joblib>=0.11 in c:\\users\\rqpua\\anaconda3\\lib\\site-packages (from scikit-learn>=0.20.0->category_encoders) (1.1.0)\n",
      "Requirement already satisfied: packaging>=21.3 in c:\\users\\rqpua\\anaconda3\\lib\\site-packages (from statsmodels>=0.9.0->category_encoders) (21.3)\n",
      "Requirement already satisfied: pyparsing!=3.0.5,>=2.0.2 in c:\\users\\rqpua\\anaconda3\\lib\\site-packages (from packaging>=21.3->statsmodels>=0.9.0->category_encoders) (3.0.9)\n"
     ]
    }
   ],
   "source": [
    "# Importing Basic Libraries\n",
    "# Basic Libraries\n",
    "!pip install --upgrade category_encoders\n",
    "import numpy as np\n",
    "import pandas as pd\n",
    "import seaborn as sb\n",
    "import matplotlib.pyplot as plt # we only need pyplot\n",
    "sb.set() # set the default Seaborn style for graphics\n",
    "# Import essential models and functions from sklearn\n",
    "from sklearn.linear_model import LinearRegression\n",
    "from sklearn.model_selection import train_test_split\n",
    "from sklearn.metrics import mean_squared_error\n",
    "# Import essential models and functions from sklearn\n",
    "from sklearn.model_selection import train_test_split\n",
    "from sklearn.tree import plot_tree\n",
    "from sklearn.metrics import confusion_matrix\n",
    "from sklearn.preprocessing import LabelBinarizer, LabelEncoder\n",
    "from sklearn.tree import DecisionTreeClassifier, export_graphviz\n",
    "from sklearn.preprocessing import LabelEncoder\n",
    "le = LabelEncoder()\n",
    "import category_encoders as ce"
   ]
  },
  {
   "cell_type": "code",
   "execution_count": 2,
   "id": "2befd407",
   "metadata": {},
   "outputs": [],
   "source": [
    "# Getting Datasets\n",
    "pd.set_option(\"display.max_rows\", 50)\n",
    "cr = pd.read_csv(\"credit_record.csv\")\n",
    "ar = pd.read_csv(\"application_record.csv\")"
   ]
  },
  {
   "cell_type": "code",
   "execution_count": 3,
   "id": "8a45fffc",
   "metadata": {},
   "outputs": [
    {
     "name": "stdout",
     "output_type": "stream",
     "text": [
      "              ID  MONTHS_BALANCE STATUS\n",
      "0        5001711               0      X\n",
      "1        5001711              -1      0\n",
      "2        5001711              -2      0\n",
      "3        5001711              -3      0\n",
      "4        5001712               0      C\n",
      "...          ...             ...    ...\n",
      "1048570  5150487             -25      C\n",
      "1048571  5150487             -26      C\n",
      "1048572  5150487             -27      C\n",
      "1048573  5150487             -28      C\n",
      "1048574  5150487             -29      C\n",
      "\n",
      "[1048575 rows x 3 columns]\n"
     ]
    }
   ],
   "source": [
    "# Viewing credit record\n",
    "print(cr)"
   ]
  },
  {
   "cell_type": "code",
   "execution_count": 4,
   "id": "fb956d45",
   "metadata": {},
   "outputs": [
    {
     "name": "stdout",
     "output_type": "stream",
     "text": [
      "<class 'pandas.core.frame.DataFrame'>\n",
      "RangeIndex: 1048575 entries, 0 to 1048574\n",
      "Data columns (total 3 columns):\n",
      " #   Column          Non-Null Count    Dtype \n",
      "---  ------          --------------    ----- \n",
      " 0   ID              1048575 non-null  int64 \n",
      " 1   MONTHS_BALANCE  1048575 non-null  int64 \n",
      " 2   STATUS          1048575 non-null  object\n",
      "dtypes: int64(2), object(1)\n",
      "memory usage: 24.0+ MB\n"
     ]
    }
   ],
   "source": [
    "# Getting info of credit record\n",
    "cr.info()"
   ]
  },
  {
   "cell_type": "code",
   "execution_count": 5,
   "id": "4790f0fd",
   "metadata": {},
   "outputs": [
    {
     "name": "stdout",
     "output_type": "stream",
     "text": [
      "             ID CODE_GENDER FLAG_OWN_CAR FLAG_OWN_REALTY  CNT_CHILDREN  \\\n",
      "0       5008804           M            Y               Y             0   \n",
      "1       5008805           M            Y               Y             0   \n",
      "2       5008806           M            Y               Y             0   \n",
      "3       5008808           F            N               Y             0   \n",
      "4       5008809           F            N               Y             0   \n",
      "...         ...         ...          ...             ...           ...   \n",
      "438552  6840104           M            N               Y             0   \n",
      "438553  6840222           F            N               N             0   \n",
      "438554  6841878           F            N               N             0   \n",
      "438555  6842765           F            N               Y             0   \n",
      "438556  6842885           F            N               Y             0   \n",
      "\n",
      "        AMT_INCOME_TOTAL      NAME_INCOME_TYPE            NAME_EDUCATION_TYPE  \\\n",
      "0               427500.0               Working               Higher education   \n",
      "1               427500.0               Working               Higher education   \n",
      "2               112500.0               Working  Secondary / secondary special   \n",
      "3               270000.0  Commercial associate  Secondary / secondary special   \n",
      "4               270000.0  Commercial associate  Secondary / secondary special   \n",
      "...                  ...                   ...                            ...   \n",
      "438552          135000.0             Pensioner  Secondary / secondary special   \n",
      "438553          103500.0               Working  Secondary / secondary special   \n",
      "438554           54000.0  Commercial associate               Higher education   \n",
      "438555           72000.0             Pensioner  Secondary / secondary special   \n",
      "438556          121500.0               Working  Secondary / secondary special   \n",
      "\n",
      "          NAME_FAMILY_STATUS  NAME_HOUSING_TYPE  DAYS_BIRTH  DAYS_EMPLOYED  \\\n",
      "0             Civil marriage   Rented apartment      -12005          -4542   \n",
      "1             Civil marriage   Rented apartment      -12005          -4542   \n",
      "2                    Married  House / apartment      -21474          -1134   \n",
      "3       Single / not married  House / apartment      -19110          -3051   \n",
      "4       Single / not married  House / apartment      -19110          -3051   \n",
      "...                      ...                ...         ...            ...   \n",
      "438552             Separated  House / apartment      -22717         365243   \n",
      "438553  Single / not married  House / apartment      -15939          -3007   \n",
      "438554  Single / not married       With parents       -8169           -372   \n",
      "438555               Married  House / apartment      -21673         365243   \n",
      "438556               Married  House / apartment      -18858          -1201   \n",
      "\n",
      "        FLAG_MOBIL  FLAG_WORK_PHONE  FLAG_PHONE  FLAG_EMAIL OCCUPATION_TYPE  \\\n",
      "0                1                1           0           0             NaN   \n",
      "1                1                1           0           0             NaN   \n",
      "2                1                0           0           0  Security staff   \n",
      "3                1                0           1           1     Sales staff   \n",
      "4                1                0           1           1     Sales staff   \n",
      "...            ...              ...         ...         ...             ...   \n",
      "438552           1                0           0           0             NaN   \n",
      "438553           1                0           0           0        Laborers   \n",
      "438554           1                1           0           0     Sales staff   \n",
      "438555           1                0           0           0             NaN   \n",
      "438556           1                0           1           0     Sales staff   \n",
      "\n",
      "        CNT_FAM_MEMBERS  \n",
      "0                   2.0  \n",
      "1                   2.0  \n",
      "2                   2.0  \n",
      "3                   1.0  \n",
      "4                   1.0  \n",
      "...                 ...  \n",
      "438552              1.0  \n",
      "438553              1.0  \n",
      "438554              1.0  \n",
      "438555              2.0  \n",
      "438556              2.0  \n",
      "\n",
      "[438557 rows x 18 columns]\n"
     ]
    }
   ],
   "source": [
    "# Viewing application record\n",
    "print(ar)"
   ]
  },
  {
   "cell_type": "code",
   "execution_count": 6,
   "id": "e519811e",
   "metadata": {},
   "outputs": [
    {
     "name": "stdout",
     "output_type": "stream",
     "text": [
      "<class 'pandas.core.frame.DataFrame'>\n",
      "RangeIndex: 438557 entries, 0 to 438556\n",
      "Data columns (total 18 columns):\n",
      " #   Column               Non-Null Count   Dtype  \n",
      "---  ------               --------------   -----  \n",
      " 0   ID                   438557 non-null  int64  \n",
      " 1   CODE_GENDER          438557 non-null  object \n",
      " 2   FLAG_OWN_CAR         438557 non-null  object \n",
      " 3   FLAG_OWN_REALTY      438557 non-null  object \n",
      " 4   CNT_CHILDREN         438557 non-null  int64  \n",
      " 5   AMT_INCOME_TOTAL     438557 non-null  float64\n",
      " 6   NAME_INCOME_TYPE     438557 non-null  object \n",
      " 7   NAME_EDUCATION_TYPE  438557 non-null  object \n",
      " 8   NAME_FAMILY_STATUS   438557 non-null  object \n",
      " 9   NAME_HOUSING_TYPE    438557 non-null  object \n",
      " 10  DAYS_BIRTH           438557 non-null  int64  \n",
      " 11  DAYS_EMPLOYED        438557 non-null  int64  \n",
      " 12  FLAG_MOBIL           438557 non-null  int64  \n",
      " 13  FLAG_WORK_PHONE      438557 non-null  int64  \n",
      " 14  FLAG_PHONE           438557 non-null  int64  \n",
      " 15  FLAG_EMAIL           438557 non-null  int64  \n",
      " 16  OCCUPATION_TYPE      304354 non-null  object \n",
      " 17  CNT_FAM_MEMBERS      438557 non-null  float64\n",
      "dtypes: float64(2), int64(8), object(8)\n",
      "memory usage: 60.2+ MB\n"
     ]
    }
   ],
   "source": [
    "# Getting info of application record\n",
    "ar.info()"
   ]
  },
  {
   "cell_type": "code",
   "execution_count": 7,
   "id": "0b8e6700",
   "metadata": {},
   "outputs": [
    {
     "data": {
      "text/plain": [
       "<seaborn.axisgrid.FacetGrid at 0x1cc4ee9ddf0>"
      ]
     },
     "execution_count": 7,
     "metadata": {},
     "output_type": "execute_result"
    },
    {
     "data": {
      "image/png": "[encoded data removed]",
      "text/plain": [
       "<Figure size 500x500 with 1 Axes>"
      ]
     },
     "metadata": {},
     "output_type": "display_data"
    }
   ],
   "source": [
    "# Variables under STAtUS in cr\n",
    "sb.catplot(y=\"STATUS\",data= cr,kind=\"count\")"
   ]
  },
  {
   "cell_type": "code",
   "execution_count": 8,
   "id": "91f0fd70",
   "metadata": {},
   "outputs": [],
   "source": [
    "# Replacing the values in STATUS in cr\n",
    "cr['STATUS'].replace(['0'], 1 ,inplace= True)\n",
    "cr['STATUS'].replace(['1'], 1,inplace= True)\n",
    "cr['STATUS'].replace(['2'], 1 ,inplace= True)\n",
    "cr['STATUS'].replace(['3'], 1,inplace= True)\n",
    "cr['STATUS'].replace(['4'], 1 ,inplace= True)\n",
    "cr['STATUS'].replace(['5'], 1,inplace= True)\n",
    "cr['STATUS'].replace(['C'], 0,inplace= True)\n",
    "cr['STATUS'].replace(['X'], 0,inplace= True)"
   ]
  },
  {
   "cell_type": "code",
   "execution_count": 9,
   "id": "fcbd5205",
   "metadata": {},
   "outputs": [
    {
     "data": {
      "image/png": "[encoded data removed]",
      "text/plain": [
       "<Figure size 500x500 with 1 Axes>"
      ]
     },
     "metadata": {},
     "output_type": "display_data"
    }
   ],
   "source": [
    "# Variables under STAtUS in cr updated\n",
    "sb.catplot(y=\"STATUS\",data= cr,kind=\"count\")\n",
    "plt.show()"
   ]
  },
  {
   "cell_type": "code",
   "execution_count": 10,
   "id": "5e9afc3c",
   "metadata": {},
   "outputs": [],
   "source": [
    "# Filling the NULL valus in Occupation Type in ar\n",
    "ar['OCCUPATION_TYPE'].fillna(value=\"NA\", inplace= True)"
   ]
  },
  {
   "cell_type": "code",
   "execution_count": 11,
   "id": "159735ff",
   "metadata": {},
   "outputs": [],
   "source": [
    "cr = cr.groupby(['ID'])['STATUS'].agg('mean')"
   ]
  },
  {
   "cell_type": "code",
   "execution_count": 12,
   "id": "ede56476",
   "metadata": {},
   "outputs": [
    {
     "name": "stdout",
     "output_type": "stream",
     "text": [
      "<class 'pandas.core.series.Series'>\n",
      "Int64Index: 45985 entries, 5001711 to 5150487\n",
      "Series name: STATUS\n",
      "Non-Null Count  Dtype  \n",
      "--------------  -----  \n",
      "45985 non-null  float64\n",
      "dtypes: float64(1)\n",
      "memory usage: 718.5 KB\n"
     ]
    }
   ],
   "source": [
    "cr.info()"
   ]
  },
  {
   "cell_type": "code",
   "execution_count": 13,
   "id": "22db1249",
   "metadata": {},
   "outputs": [
    {
     "name": "stdout",
     "output_type": "stream",
     "text": [
      "            ID  STATUS CODE_GENDER FLAG_OWN_CAR FLAG_OWN_REALTY  CNT_CHILDREN  \\\n",
      "0      5008804     1.0           M            Y               Y             0   \n",
      "1      5008805     1.0           M            Y               Y             0   \n",
      "2      5008806     1.0           M            Y               Y             0   \n",
      "3      5008808     1.0           F            N               Y             0   \n",
      "4      5008809     0.0           F            N               Y             0   \n",
      "...        ...     ...         ...          ...             ...           ...   \n",
      "36452  5150482     1.0           F            Y               Y             1   \n",
      "36453  5150483     0.0           F            Y               Y             1   \n",
      "36454  5150484     1.0           F            Y               Y             1   \n",
      "36455  5150485     1.0           F            Y               Y             1   \n",
      "36456  5150487     0.0           M            Y               N             0   \n",
      "\n",
      "       AMT_INCOME_TOTAL      NAME_INCOME_TYPE            NAME_EDUCATION_TYPE  \\\n",
      "0              427500.0               Working               Higher education   \n",
      "1              427500.0               Working               Higher education   \n",
      "2              112500.0               Working  Secondary / secondary special   \n",
      "3              270000.0  Commercial associate  Secondary / secondary special   \n",
      "4              270000.0  Commercial associate  Secondary / secondary special   \n",
      "...                 ...                   ...                            ...   \n",
      "36452          157500.0               Working  Secondary / secondary special   \n",
      "36453          157500.0               Working  Secondary / secondary special   \n",
      "36454          157500.0               Working  Secondary / secondary special   \n",
      "36455          157500.0               Working  Secondary / secondary special   \n",
      "36456          202500.0               Working  Secondary / secondary special   \n",
      "\n",
      "         NAME_FAMILY_STATUS  NAME_HOUSING_TYPE  DAYS_BIRTH  DAYS_EMPLOYED  \\\n",
      "0            Civil marriage   Rented apartment      -12005          -4542   \n",
      "1            Civil marriage   Rented apartment      -12005          -4542   \n",
      "2                   Married  House / apartment      -21474          -1134   \n",
      "3      Single / not married  House / apartment      -19110          -3051   \n",
      "4      Single / not married  House / apartment      -19110          -3051   \n",
      "...                     ...                ...         ...            ...   \n",
      "36452               Married  House / apartment      -10808          -1739   \n",
      "36453               Married  House / apartment      -10808          -1739   \n",
      "36454               Married  House / apartment      -10808          -1739   \n",
      "36455               Married  House / apartment      -10808          -1739   \n",
      "36456               Married  House / apartment      -19398          -2166   \n",
      "\n",
      "       FLAG_MOBIL  FLAG_WORK_PHONE  FLAG_PHONE  FLAG_EMAIL OCCUPATION_TYPE  \\\n",
      "0               1                1           0           0              NA   \n",
      "1               1                1           0           0              NA   \n",
      "2               1                0           0           0  Security staff   \n",
      "3               1                0           1           1     Sales staff   \n",
      "4               1                0           1           1     Sales staff   \n",
      "...           ...              ...         ...         ...             ...   \n",
      "36452           1                0           0           0      Core staff   \n",
      "36453           1                0           0           0      Core staff   \n",
      "36454           1                0           0           0      Core staff   \n",
      "36455           1                0           0           0      Core staff   \n",
      "36456           1                0           0           0         Drivers   \n",
      "\n",
      "       CNT_FAM_MEMBERS  \n",
      "0                  2.0  \n",
      "1                  2.0  \n",
      "2                  2.0  \n",
      "3                  1.0  \n",
      "4                  1.0  \n",
      "...                ...  \n",
      "36452              3.0  \n",
      "36453              3.0  \n",
      "36454              3.0  \n",
      "36455              3.0  \n",
      "36456              2.0  \n",
      "\n",
      "[36457 rows x 19 columns]\n"
     ]
    }
   ],
   "source": [
    "# merging the 2 dataframes and removing all different IDs\n",
    "merged_df = pd.merge(cr, ar, on=\"ID\", how=\"inner\")\n",
    "# Rounding up STATUS to whole nummber\n",
    "merged_df[\"STATUS\"] = np.ceil(merged_df[\"STATUS\"])\n",
    "# Rounding up STATUS to one Decimal Place\n",
    "#merged_df['STATUS'] = merged_df['STATUS'].round(decimals = 1)\n",
    "print(merged_df)"
   ]
  },
  {
   "cell_type": "code",
   "execution_count": 14,
   "id": "fde9fdb6",
   "metadata": {},
   "outputs": [
    {
     "data": {
      "image/png": "[encoded data removed]",
      "text/plain": [
       "<Figure size 500x500 with 1 Axes>"
      ]
     },
     "metadata": {},
     "output_type": "display_data"
    }
   ],
   "source": [
    "# Seeing the distrubution of data for STATUS\n",
    "sb.catplot(y=\"STATUS\",data= merged_df,kind=\"count\")\n",
    "plt.show()"
   ]
  },
  {
   "cell_type": "code",
   "execution_count": 15,
   "id": "3fef5436",
   "metadata": {},
   "outputs": [
    {
     "data": {
      "image/png": "[encoded data removed]",
      "text/plain": [
       "<Figure size 1200x1200 with 3 Axes>"
      ]
     },
     "metadata": {},
     "output_type": "display_data"
    }
   ],
   "source": [
    "# Draw jointplot of the two variables in the joined dataframe\n",
    "sb.jointplot(data = merged_df, y = \"STATUS\", x = \"AMT_INCOME_TOTAL\", height = 12)\n",
    "plt.show()"
   ]
  },
  {
   "cell_type": "code",
   "execution_count": 16,
   "id": "22314d82",
   "metadata": {},
   "outputs": [
    {
     "data": {
      "image/png": "[encoded data removed]",
      "text/plain": [
       "<Figure size 640.847x500 with 1 Axes>"
      ]
     },
     "metadata": {},
     "output_type": "display_data"
    }
   ],
   "source": [
    "# Variables under STAtUS in cr updated\n",
    "sb.catplot(y=\"STATUS\",data= merged_df,kind=\"count\",hue=\"CODE_GENDER\")\n",
    "plt.show()"
   ]
  },
  {
   "cell_type": "code",
   "execution_count": 17,
   "id": "7089426e",
   "metadata": {},
   "outputs": [
    {
     "data": {
      "image/png": "[encoded data removed]",
      "text/plain": [
       "<Figure size 576.25x500 with 1 Axes>"
      ]
     },
     "metadata": {},
     "output_type": "display_data"
    }
   ],
   "source": [
    "# Variables under STAtUS in cr updated\n",
    "sb.catplot(y=\"OCCUPATION_TYPE\",data= merged_df,kind=\"count\",hue=\"STATUS\")\n",
    "plt.show()"
   ]
  },
  {
   "cell_type": "code",
   "execution_count": 18,
   "id": "d7525dd4",
   "metadata": {},
   "outputs": [
    {
     "data": {
      "image/png": "[encoded data removed]",
      "text/plain": [
       "<Figure size 576.25x500 with 1 Axes>"
      ]
     },
     "metadata": {},
     "output_type": "display_data"
    }
   ],
   "source": [
    "# Variables under STAtUS in cr updated\n",
    "sb.catplot(y=\"CNT_CHILDREN\",data= merged_df,kind=\"count\",hue=\"STATUS\")\n",
    "plt.show()"
   ]
  },
  {
   "cell_type": "code",
   "execution_count": 19,
   "id": "d92ef9bd",
   "metadata": {},
   "outputs": [
    {
     "data": {
      "image/png": "[encoded data removed]",
      "text/plain": [
       "<Figure size 576.25x500 with 1 Axes>"
      ]
     },
     "metadata": {},
     "output_type": "display_data"
    }
   ],
   "source": [
    "# Variables under STAtUS in cr updated\n",
    "sb.catplot(y=\"NAME_EDUCATION_TYPE\",data= merged_df,kind=\"count\",hue=\"STATUS\")\n",
    "plt.show()"
   ]
  },
  {
   "cell_type": "code",
   "execution_count": 20,
   "id": "af21a607",
   "metadata": {},
   "outputs": [
    {
     "data": {
      "image/png": "[encoded data removed]",
      "text/plain": [
       "<Figure size 576.25x500 with 1 Axes>"
      ]
     },
     "metadata": {},
     "output_type": "display_data"
    }
   ],
   "source": [
    "# Variables under STAtUS in cr updated\n",
    "sb.catplot(y=\"NAME_FAMILY_STATUS\",data= merged_df,kind=\"count\",hue=\"STATUS\")\n",
    "plt.show()"
   ]
  },
  {
   "cell_type": "code",
   "execution_count": 21,
   "id": "6cd0d48b",
   "metadata": {},
   "outputs": [],
   "source": [
    "#for col in merged_df.columns:\n",
    " #   if merged_df[col].dtype == 'object':\n",
    "  #      merged_df[col] = le.fit_transform(merged_df[col])"
   ]
  },
  {
   "cell_type": "code",
   "execution_count": 22,
   "id": "6c1a7e84",
   "metadata": {},
   "outputs": [
    {
     "name": "stdout",
     "output_type": "stream",
     "text": [
      "\n",
      "[CONVERSIONS MADE]\n",
      "- Dropped ID column\n",
      "- Converted non-numerical columns to numerical columns using target encoder with smoothing\n",
      "\n",
      "[POST CONVERSION]\n",
      " Number of numerical columns: 19\n",
      "\n",
      "[POST CONVERSION]\n",
      " Number of non-numerical columns: 0\n"
     ]
    }
   ],
   "source": [
    "\n",
    "# SHow cleaning steps taken message\n",
    "print(\"\\n[CONVERSIONS MADE]\")\n",
    "\n",
    "# Drop the \"Booking_ID\" column\n",
    "#merged_df.drop(\"ID\", axis=1, inplace=True)\n",
    "print(\"- Dropped ID column\")\n",
    "\n",
    "# Use target encoder to encode the non-numerical columns\n",
    "# Define the target encoder with smoothing to avoid overfitting\n",
    "encoder = ce.TargetEncoder(cols=[\"NAME_INCOME_TYPE\", \"NAME_EDUCATION_TYPE\", \"NAME_FAMILY_STATUS\", \"NAME_HOUSING_TYPE\", \"OCCUPATION_TYPE\",\"CODE_GENDER\",\"FLAG_OWN_CAR\",\"FLAG_OWN_REALTY\"], smoothing=0.2)\n",
    "print(\"- Converted non-numerical columns to numerical columns using target encoder with smoothing\")\n",
    "\n",
    "# Fit and transform the encoder on the data\n",
    "merged_df = encoder.fit_transform(merged_df, merged_df[\"STATUS\"])\n",
    "\n",
    "# Show number of numerical and non-numerical columns in the dataframe\n",
    "print(\"\\n[POST CONVERSION]\\n Number of numerical columns: {}\".format(merged_df.select_dtypes(include=np.number).shape[1]))\n",
    "print(\"\\n[POST CONVERSION]\\n Number of non-numerical columns: {}\".format(merged_df.select_dtypes(exclude=np.number).shape[1]))"
   ]
  },
  {
   "cell_type": "code",
   "execution_count": 23,
   "id": "7e64e12b",
   "metadata": {},
   "outputs": [
    {
     "name": "stdout",
     "output_type": "stream",
     "text": [
      "[UNIQUE VALUES PER COLUMN]\n",
      "\n"
     ]
    },
    {
     "data": {
      "text/plain": [
       "ID                     36457\n",
       "STATUS                     2\n",
       "CODE_GENDER                2\n",
       "FLAG_OWN_CAR               2\n",
       "FLAG_OWN_REALTY            2\n",
       "CNT_CHILDREN               9\n",
       "AMT_INCOME_TOTAL         265\n",
       "NAME_INCOME_TYPE           5\n",
       "NAME_EDUCATION_TYPE        5\n",
       "NAME_FAMILY_STATUS         5\n",
       "NAME_HOUSING_TYPE          6\n",
       "DAYS_BIRTH              7183\n",
       "DAYS_EMPLOYED           3640\n",
       "FLAG_MOBIL                 1\n",
       "FLAG_WORK_PHONE            2\n",
       "FLAG_PHONE                 2\n",
       "FLAG_EMAIL                 2\n",
       "OCCUPATION_TYPE           19\n",
       "CNT_FAM_MEMBERS           10\n",
       "dtype: int64"
      ]
     },
     "execution_count": 23,
     "metadata": {},
     "output_type": "execute_result"
    }
   ],
   "source": [
    "# Show the number of unique values in each column\n",
    "print(\"[UNIQUE VALUES PER COLUMN]\\n\")\n",
    "merged_df.nunique()"
   ]
  },
  {
   "cell_type": "code",
   "execution_count": null,
   "id": "6c4c3b5e",
   "metadata": {},
   "outputs": [],
   "source": []
  },
  {
   "cell_type": "code",
   "execution_count": null,
   "id": "f4186d63",
   "metadata": {},
   "outputs": [],
   "source": []
  },
  {
   "cell_type": "code",
   "execution_count": 24,
   "id": "0e4da873",
   "metadata": {},
   "outputs": [
    {
     "data": {
      "text/plain": [
       "ID                     0\n",
       "STATUS                 0\n",
       "CODE_GENDER            0\n",
       "FLAG_OWN_CAR           0\n",
       "FLAG_OWN_REALTY        0\n",
       "CNT_CHILDREN           0\n",
       "AMT_INCOME_TOTAL       0\n",
       "NAME_INCOME_TYPE       0\n",
       "NAME_EDUCATION_TYPE    0\n",
       "NAME_FAMILY_STATUS     0\n",
       "NAME_HOUSING_TYPE      0\n",
       "DAYS_BIRTH             0\n",
       "DAYS_EMPLOYED          0\n",
       "FLAG_MOBIL             0\n",
       "FLAG_WORK_PHONE        0\n",
       "FLAG_PHONE             0\n",
       "FLAG_EMAIL             0\n",
       "OCCUPATION_TYPE        0\n",
       "CNT_FAM_MEMBERS        0\n",
       "dtype: int64"
      ]
     },
     "execution_count": 24,
     "metadata": {},
     "output_type": "execute_result"
    }
   ],
   "source": [
    "merged_df.isna().sum()"
   ]
  },
  {
   "cell_type": "code",
   "execution_count": 25,
   "id": "601d6db6",
   "metadata": {},
   "outputs": [],
   "source": [
    "store = ['AMT_INCOME_TOTAL','CNT_FAM_MEMBERS','NAME_EDUCATION_TYPE']\n",
    "\n",
    "X = pd.DataFrame(merged_df[store]) \n",
    "y = pd.DataFrame(merged_df['STATUS']) "
   ]
  },
  {
   "cell_type": "code",
   "execution_count": 26,
   "id": "cf74aa30",
   "metadata": {},
   "outputs": [],
   "source": [
    "from sklearn.model_selection import KFold,StratifiedKFold,train_test_split\n",
    "kfold = StratifiedKFold(n_splits=8, shuffle=True, random_state=0)"
   ]
  },
  {
   "cell_type": "code",
   "execution_count": 27,
   "id": "fcaea081",
   "metadata": {},
   "outputs": [],
   "source": [
    "X_train, X_test, y_train, y_test = train_test_split(X, y, test_size=0.3, random_state=0)"
   ]
  },
  {
   "cell_type": "code",
   "execution_count": 28,
   "id": "481bfdff",
   "metadata": {},
   "outputs": [
    {
     "data": {
      "text/plain": [
       "DecisionTreeClassifier(max_depth=12, random_state=42)"
      ]
     },
     "execution_count": 28,
     "metadata": {},
     "output_type": "execute_result"
    }
   ],
   "source": [
    "from sklearn.tree import DecisionTreeClassifier\n",
    "dectree = DecisionTreeClassifier(max_depth=12,splitter='best',random_state=42)\n",
    "dectree.fit(X_train, y_train)"
   ]
  },
  {
   "cell_type": "code",
   "execution_count": 29,
   "id": "cc67ac0e",
   "metadata": {},
   "outputs": [],
   "source": [
    "y_pred = dectree.predict(X_test)\n",
    "y_pred_train= dectree.predict(X_train)"
   ]
  },
  {
   "cell_type": "code",
   "execution_count": 30,
   "id": "42112a0f",
   "metadata": {},
   "outputs": [
    {
     "name": "stdout",
     "output_type": "stream",
     "text": [
      "Goodness of Fit of Model \tTrain Dataset\n",
      "Classification Accuracy \t: 0.8802331561803531\n",
      "\n"
     ]
    }
   ],
   "source": [
    "print(\"Goodness of Fit of Model \\tTrain Dataset\")\n",
    "print(\"Classification Accuracy \\t:\", dectree.score(X_train, y_train))\n",
    "print()"
   ]
  },
  {
   "cell_type": "code",
   "execution_count": 31,
   "id": "c8f2b228",
   "metadata": {},
   "outputs": [
    {
     "name": "stdout",
     "output_type": "stream",
     "text": [
      "TPR Train :\t 0.9980466460913389\n",
      "TNR Train :\t 0.03503363228699551\n",
      "\n",
      "FPR Train :\t 0.9649663677130045\n",
      "FNR Train :\t 0.001953353908661171\n"
     ]
    },
    {
     "data": {
      "text/plain": [
       "<AxesSubplot:>"
      ]
     },
     "execution_count": 31,
     "metadata": {},
     "output_type": "execute_result"
    }
   ],
   "source": [
    "# Print the Accuracy Measures from the Confusion Matrix\n",
    "cmTrain = confusion_matrix(y_train,y_pred_train)\n",
    "tpTrain = cmTrain[1][1] # True Positives : Good (1) predicted Good (1)\n",
    "fpTrain = cmTrain[0][1] # False Positives : Bad (0) predicted Good (1)\n",
    "tnTrain = cmTrain[0][0] # True Negatives : Bad (0) predicted Bad (0)\n",
    "fnTrain = cmTrain[1][0] # False Negatives : Good (1) predicted Bad (0)\n",
    "\n",
    "print(\"TPR Train :\\t\", (tpTrain/(tpTrain + fnTrain)))\n",
    "print(\"TNR Train :\\t\", (tnTrain/(tnTrain + fpTrain)))\n",
    "print()\n",
    "\n",
    "print(\"FPR Train :\\t\", (fpTrain/(tnTrain + fpTrain)))\n",
    "print(\"FNR Train :\\t\", (fnTrain/(tpTrain + fnTrain)))\n",
    "\n",
    "# Plot the two-way Confusion Matrix\n",
    "sb.heatmap(confusion_matrix(y_train, y_pred_train), \n",
    "           annot = True, fmt=\".0f\", annot_kws={\"size\": 18})"
   ]
  },
  {
   "cell_type": "code",
   "execution_count": 32,
   "id": "1caec0d5",
   "metadata": {},
   "outputs": [
    {
     "name": "stdout",
     "output_type": "stream",
     "text": [
      "Test Data\n",
      "Accuracy  :\t 0.8771256171146462\n",
      "\n",
      "TPR Test :\t 0.9959406713505075\n",
      "TNR Test :\t 0.019165727170236752\n",
      "\n",
      "FPR Test :\t 0.9808342728297632\n",
      "FNR Test :\t 0.004059328649492584\n"
     ]
    },
    {
     "data": {
      "text/plain": [
       "<AxesSubplot:>"
      ]
     },
     "execution_count": 32,
     "metadata": {},
     "output_type": "execute_result"
    }
   ],
   "source": [
    "# Import the required metric from sklearn\n",
    "\n",
    "\n",
    "# Predict the Response corresponding to Predictors\n",
    "y_test_pred = dectree.predict(X_test)\n",
    "\n",
    "# Print the Classification Accuracy\n",
    "print(\"Test Data\")\n",
    "print(\"Accuracy  :\\t\", dectree.score(X_test, y_test))\n",
    "print()\n",
    "\n",
    "# Print the Accuracy Measures from the Confusion Matrix\n",
    "cmTest = confusion_matrix(y_test, y_test_pred)\n",
    "tpTest = cmTest[1][1] # True Positives : Good (1) predicted Good (1)\n",
    "fpTest = cmTest[0][1] # False Positives : Bad (0) predicted Good (1)\n",
    "tnTest = cmTest[0][0] # True Negatives : Bad (0) predicted Bad (0)\n",
    "fnTest = cmTest[1][0] # False Negatives : Good (1) predicted Bad (0)\n",
    "\n",
    "print(\"TPR Test :\\t\", (tpTest/(tpTest + fnTest)))\n",
    "print(\"TNR Test :\\t\", (tnTest/(tnTest + fpTest)))\n",
    "print()\n",
    "\n",
    "print(\"FPR Test :\\t\", (fpTest/(fpTest + tnTest)))\n",
    "print(\"FNR Test :\\t\", (fnTest/(fnTest + tpTest)))\n",
    "\n",
    "# Plot the two-way Confusion Matrix\n",
    "sb.heatmap(confusion_matrix(y_test, y_test_pred), \n",
    "           annot = True, fmt=\".0f\", annot_kws={\"size\": 18})"
   ]
  },
  {
   "cell_type": "code",
   "execution_count": 33,
   "id": "3e35308d",
   "metadata": {},
   "outputs": [
    {
     "data": {
      "image/png": "[encoded data removed]",
      "text/plain": [
       "<Figure size 640x480 with 3 Axes>"
      ]
     },
     "metadata": {},
     "output_type": "display_data"
    },
    {
     "data": {
      "image/png": "[encoded data removed]",
      "text/plain": [
       "<Figure size 500x500 with 1 Axes>"
      ]
     },
     "metadata": {},
     "output_type": "display_data"
    }
   ],
   "source": [
    "sb.catplot(y = 'STATUS', data = merged_df, kind = \"count\")\n",
    "plt.show()"
   ]
  },
  {
   "cell_type": "code",
   "execution_count": 34,
   "id": "f64be389",
   "metadata": {},
   "outputs": [
    {
     "data": {
      "text/plain": [
       "1.0    32002\n",
       "0.0    32002\n",
       "Name: STATUS, dtype: int64"
      ]
     },
     "execution_count": 34,
     "metadata": {},
     "output_type": "execute_result"
    }
   ],
   "source": [
    "# Upsample Bad to match Good\n",
    "from sklearn.utils import resample\n",
    "\n",
    "creditBad = merged_df[merged_df.STATUS == 1]\n",
    "creditGood = merged_df[merged_df.STATUS == 0]\n",
    " \n",
    "# Upsample the good samples\n",
    "creditgood_up = resample(creditGood, \n",
    "                        replace=True,                     # sample with replacement\n",
    "                        n_samples=creditBad.shape[0])    # to match number of Bad\n",
    " \n",
    "# Combine the two classes back after upsampling\n",
    "merged_df = pd.concat([creditBad, creditgood_up])\n",
    " \n",
    "# Check the ratio of the classes\n",
    "merged_df['STATUS'].value_counts()"
   ]
  },
  {
   "cell_type": "code",
   "execution_count": 35,
   "id": "871594e3",
   "metadata": {},
   "outputs": [
    {
     "name": "stdout",
     "output_type": "stream",
     "text": [
      "<class 'pandas.core.frame.DataFrame'>\n",
      "Int64Index: 64004 entries, 0 to 12871\n",
      "Data columns (total 19 columns):\n",
      " #   Column               Non-Null Count  Dtype  \n",
      "---  ------               --------------  -----  \n",
      " 0   ID                   64004 non-null  int64  \n",
      " 1   STATUS               64004 non-null  float64\n",
      " 2   CODE_GENDER          64004 non-null  float64\n",
      " 3   FLAG_OWN_CAR         64004 non-null  float64\n",
      " 4   FLAG_OWN_REALTY      64004 non-null  float64\n",
      " 5   CNT_CHILDREN         64004 non-null  int64  \n",
      " 6   AMT_INCOME_TOTAL     64004 non-null  float64\n",
      " 7   NAME_INCOME_TYPE     64004 non-null  float64\n",
      " 8   NAME_EDUCATION_TYPE  64004 non-null  float64\n",
      " 9   NAME_FAMILY_STATUS   64004 non-null  float64\n",
      " 10  NAME_HOUSING_TYPE    64004 non-null  float64\n",
      " 11  DAYS_BIRTH           64004 non-null  int64  \n",
      " 12  DAYS_EMPLOYED        64004 non-null  int64  \n",
      " 13  FLAG_MOBIL           64004 non-null  int64  \n",
      " 14  FLAG_WORK_PHONE      64004 non-null  int64  \n",
      " 15  FLAG_PHONE           64004 non-null  int64  \n",
      " 16  FLAG_EMAIL           64004 non-null  int64  \n",
      " 17  OCCUPATION_TYPE      64004 non-null  float64\n",
      " 18  CNT_FAM_MEMBERS      64004 non-null  float64\n",
      "dtypes: float64(11), int64(8)\n",
      "memory usage: 9.8 MB\n"
     ]
    }
   ],
   "source": [
    "merged_df.info()"
   ]
  },
  {
   "cell_type": "code",
   "execution_count": 36,
   "id": "81f712a4",
   "metadata": {},
   "outputs": [
    {
     "data": {
      "text/plain": [
       "[Text(0.6017361111111111, 0.9444444444444444, 'AMT_INCOME_TOTAL <= 255825.0\\ngini = 0.5\\nsamples = 44802\\nvalue = [22281, 22521]\\nclass = 1'),\n",
       " Text(0.3765625, 0.8333333333333334, 'AMT_INCOME_TOTAL <= 248625.0\\ngini = 0.5\\nsamples = 36325\\nvalue = [17728, 18597]\\nclass = 1'),\n",
       " Text(0.27534722222222224, 0.7222222222222222, 'NAME_EDUCATION_TYPE <= 0.886\\ngini = 0.5\\nsamples = 36215\\nvalue = [17706, 18509]\\nclass = 1'),\n",
       " Text(0.17222222222222222, 0.6111111111111112, 'AMT_INCOME_TOTAL <= 203625.0\\ngini = 0.5\\nsamples = 34592\\nvalue = [17012, 17580]\\nclass = 1'),\n",
       " Text(0.08888888888888889, 0.5, 'AMT_INCOME_TOTAL <= 115695.0\\ngini = 0.5\\nsamples = 29384\\nvalue = [14613, 14771]\\nclass = 1'),\n",
       " Text(0.044444444444444446, 0.3888888888888889, 'CNT_FAM_MEMBERS <= 4.5\\ngini = 0.499\\nsamples = 9888\\nvalue = [4681, 5207]\\nclass = 1'),\n",
       " Text(0.022222222222222223, 0.2777777777777778, 'CNT_FAM_MEMBERS <= 2.5\\ngini = 0.498\\nsamples = 9700\\nvalue = [4550, 5150]\\nclass = 1'),\n",
       " Text(0.011111111111111112, 0.16666666666666666, 'AMT_INCOME_TOTAL <= 105750.0\\ngini = 0.496\\nsamples = 7318\\nvalue = [3347, 3971]\\nclass = 1'),\n",
       " Text(0.005555555555555556, 0.05555555555555555, 'gini = 0.499\\nsamples = 4874\\nvalue = [2325, 2549]\\nclass = 1'),\n",
       " Text(0.016666666666666666, 0.05555555555555555, 'gini = 0.487\\nsamples = 2444\\nvalue = [1022, 1422]\\nclass = 1'),\n",
       " Text(0.03333333333333333, 0.16666666666666666, 'AMT_INCOME_TOTAL <= 78750.0\\ngini = 0.5\\nsamples = 2382\\nvalue = [1203, 1179]\\nclass = 0'),\n",
       " Text(0.027777777777777776, 0.05555555555555555, 'gini = 0.458\\nsamples = 417\\nvalue = [148, 269]\\nclass = 1'),\n",
       " Text(0.03888888888888889, 0.05555555555555555, 'gini = 0.497\\nsamples = 1965\\nvalue = [1055, 910]\\nclass = 0'),\n",
       " Text(0.06666666666666667, 0.2777777777777778, 'AMT_INCOME_TOTAL <= 56250.0\\ngini = 0.423\\nsamples = 188\\nvalue = [131, 57]\\nclass = 0'),\n",
       " Text(0.05555555555555555, 0.16666666666666666, 'AMT_INCOME_TOTAL <= 41400.0\\ngini = 0.219\\nsamples = 72\\nvalue = [63, 9]\\nclass = 0'),\n",
       " Text(0.05, 0.05555555555555555, 'gini = 0.0\\nsamples = 3\\nvalue = [0, 3]\\nclass = 1'),\n",
       " Text(0.06111111111111111, 0.05555555555555555, 'gini = 0.159\\nsamples = 69\\nvalue = [63, 6]\\nclass = 0'),\n",
       " Text(0.07777777777777778, 0.16666666666666666, 'AMT_INCOME_TOTAL <= 96750.0\\ngini = 0.485\\nsamples = 116\\nvalue = [68, 48]\\nclass = 0'),\n",
       " Text(0.07222222222222222, 0.05555555555555555, 'gini = 0.0\\nsamples = 24\\nvalue = [0, 24]\\nclass = 1'),\n",
       " Text(0.08333333333333333, 0.05555555555555555, 'gini = 0.386\\nsamples = 92\\nvalue = [68, 24]\\nclass = 0'),\n",
       " Text(0.13333333333333333, 0.3888888888888889, 'CNT_FAM_MEMBERS <= 3.5\\ngini = 0.5\\nsamples = 19496\\nvalue = [9932, 9564]\\nclass = 0'),\n",
       " Text(0.1111111111111111, 0.2777777777777778, 'AMT_INCOME_TOTAL <= 123075.0\\ngini = 0.5\\nsamples = 17723\\nvalue = [9137, 8586]\\nclass = 0'),\n",
       " Text(0.1, 0.16666666666666666, 'AMT_INCOME_TOTAL <= 122150.25\\ngini = 0.486\\nsamples = 970\\nvalue = [566, 404]\\nclass = 0'),\n",
       " Text(0.09444444444444444, 0.05555555555555555, 'gini = 0.491\\nsamples = 918\\nvalue = [521, 397]\\nclass = 0'),\n",
       " Text(0.10555555555555556, 0.05555555555555555, 'gini = 0.233\\nsamples = 52\\nvalue = [45, 7]\\nclass = 0'),\n",
       " Text(0.12222222222222222, 0.16666666666666666, 'NAME_EDUCATION_TYPE <= 0.873\\ngini = 0.5\\nsamples = 16753\\nvalue = [8571, 8182]\\nclass = 0'),\n",
       " Text(0.11666666666666667, 0.05555555555555555, 'gini = 0.497\\nsamples = 4493\\nvalue = [2413, 2080]\\nclass = 0'),\n",
       " Text(0.12777777777777777, 0.05555555555555555, 'gini = 0.5\\nsamples = 12260\\nvalue = [6158, 6102]\\nclass = 0'),\n",
       " Text(0.15555555555555556, 0.2777777777777778, 'CNT_FAM_MEMBERS <= 5.5\\ngini = 0.495\\nsamples = 1773\\nvalue = [795, 978]\\nclass = 1'),\n",
       " Text(0.14444444444444443, 0.16666666666666666, 'CNT_FAM_MEMBERS <= 4.5\\ngini = 0.493\\nsamples = 1707\\nvalue = [752, 955]\\nclass = 1'),\n",
       " Text(0.1388888888888889, 0.05555555555555555, 'gini = 0.497\\nsamples = 1481\\nvalue = [680, 801]\\nclass = 1'),\n",
       " Text(0.15, 0.05555555555555555, 'gini = 0.434\\nsamples = 226\\nvalue = [72, 154]\\nclass = 1'),\n",
       " Text(0.16666666666666666, 0.16666666666666666, 'CNT_FAM_MEMBERS <= 8.0\\ngini = 0.454\\nsamples = 66\\nvalue = [43, 23]\\nclass = 0'),\n",
       " Text(0.16111111111111112, 0.05555555555555555, 'gini = 0.441\\nsamples = 64\\nvalue = [43, 21]\\nclass = 0'),\n",
       " Text(0.17222222222222222, 0.05555555555555555, 'gini = 0.0\\nsamples = 2\\nvalue = [0, 2]\\nclass = 1'),\n",
       " Text(0.25555555555555554, 0.5, 'AMT_INCOME_TOTAL <= 245250.0\\ngini = 0.497\\nsamples = 5208\\nvalue = [2399, 2809]\\nclass = 1'),\n",
       " Text(0.2222222222222222, 0.3888888888888889, 'AMT_INCOME_TOTAL <= 230625.0\\ngini = 0.495\\nsamples = 4207\\nvalue = [1883, 2324]\\nclass = 1'),\n",
       " Text(0.2, 0.2777777777777778, 'CNT_FAM_MEMBERS <= 3.5\\ngini = 0.496\\nsamples = 3935\\nvalue = [1800, 2135]\\nclass = 1'),\n",
       " Text(0.18888888888888888, 0.16666666666666666, 'AMT_INCOME_TOTAL <= 223875.0\\ngini = 0.495\\nsamples = 3441\\nvalue = [1542, 1899]\\nclass = 1'),\n",
       " Text(0.18333333333333332, 0.05555555555555555, 'gini = 0.47\\nsamples = 535\\nvalue = [202, 333]\\nclass = 1'),\n",
       " Text(0.19444444444444445, 0.05555555555555555, 'gini = 0.497\\nsamples = 2906\\nvalue = [1340, 1566]\\nclass = 1'),\n",
       " Text(0.2111111111111111, 0.16666666666666666, 'NAME_EDUCATION_TYPE <= 0.875\\ngini = 0.499\\nsamples = 494\\nvalue = [258, 236]\\nclass = 0'),\n",
       " Text(0.20555555555555555, 0.05555555555555555, 'gini = 0.489\\nsamples = 185\\nvalue = [79, 106]\\nclass = 1'),\n",
       " Text(0.21666666666666667, 0.05555555555555555, 'gini = 0.487\\nsamples = 309\\nvalue = [179, 130]\\nclass = 0'),\n",
       " Text(0.24444444444444444, 0.2777777777777778, 'AMT_INCOME_TOTAL <= 237375.0\\ngini = 0.424\\nsamples = 272\\nvalue = [83, 189]\\nclass = 1'),\n",
       " Text(0.23333333333333334, 0.16666666666666666, 'NAME_EDUCATION_TYPE <= 0.875\\ngini = 0.147\\nsamples = 113\\nvalue = [9, 104]\\nclass = 1'),\n",
       " Text(0.22777777777777777, 0.05555555555555555, 'gini = 0.375\\nsamples = 24\\nvalue = [6, 18]\\nclass = 1'),\n",
       " Text(0.2388888888888889, 0.05555555555555555, 'gini = 0.065\\nsamples = 89\\nvalue = [3, 86]\\nclass = 1'),\n",
       " Text(0.25555555555555554, 0.16666666666666666, 'CNT_FAM_MEMBERS <= 3.5\\ngini = 0.498\\nsamples = 159\\nvalue = [74, 85]\\nclass = 1'),\n",
       " Text(0.25, 0.05555555555555555, 'gini = 0.498\\nsamples = 140\\nvalue = [74, 66]\\nclass = 0'),\n",
       " Text(0.2611111111111111, 0.05555555555555555, 'gini = 0.0\\nsamples = 19\\nvalue = [0, 19]\\nclass = 1'),\n",
       " Text(0.28888888888888886, 0.3888888888888889, 'NAME_EDUCATION_TYPE <= 0.875\\ngini = 0.5\\nsamples = 1001\\nvalue = [516, 485]\\nclass = 0'),\n",
       " Text(0.2722222222222222, 0.2777777777777778, 'CNT_FAM_MEMBERS <= 1.5\\ngini = 0.484\\nsamples = 283\\nvalue = [116, 167]\\nclass = 1'),\n",
       " Text(0.26666666666666666, 0.16666666666666666, 'gini = 0.375\\nsamples = 60\\nvalue = [15, 45]\\nclass = 1'),\n",
       " Text(0.2777777777777778, 0.16666666666666666, 'CNT_FAM_MEMBERS <= 2.5\\ngini = 0.496\\nsamples = 223\\nvalue = [101, 122]\\nclass = 1'),\n",
       " Text(0.2722222222222222, 0.05555555555555555, 'gini = 0.494\\nsamples = 176\\nvalue = [78, 98]\\nclass = 1'),\n",
       " Text(0.2833333333333333, 0.05555555555555555, 'gini = 0.5\\nsamples = 47\\nvalue = [23, 24]\\nclass = 1'),\n",
       " Text(0.3055555555555556, 0.2777777777777778, 'CNT_FAM_MEMBERS <= 3.5\\ngini = 0.493\\nsamples = 718\\nvalue = [400, 318]\\nclass = 0'),\n",
       " Text(0.3, 0.16666666666666666, 'CNT_FAM_MEMBERS <= 2.5\\ngini = 0.495\\nsamples = 682\\nvalue = [375, 307]\\nclass = 0'),\n",
       " Text(0.29444444444444445, 0.05555555555555555, 'gini = 0.495\\nsamples = 595\\nvalue = [328, 267]\\nclass = 0'),\n",
       " Text(0.3055555555555556, 0.05555555555555555, 'gini = 0.497\\nsamples = 87\\nvalue = [47, 40]\\nclass = 0'),\n",
       " Text(0.3111111111111111, 0.16666666666666666, 'gini = 0.424\\nsamples = 36\\nvalue = [25, 11]\\nclass = 0'),\n",
       " Text(0.3784722222222222, 0.6111111111111112, 'AMT_INCOME_TOTAL <= 56250.0\\ngini = 0.49\\nsamples = 1623\\nvalue = [694, 929]\\nclass = 1'),\n",
       " Text(0.34444444444444444, 0.5, 'AMT_INCOME_TOTAL <= 49500.0\\ngini = 0.416\\nsamples = 61\\nvalue = [43, 18]\\nclass = 0'),\n",
       " Text(0.3333333333333333, 0.3888888888888889, 'AMT_INCOME_TOTAL <= 41400.0\\ngini = 0.346\\nsamples = 18\\nvalue = [4, 14]\\nclass = 1'),\n",
       " Text(0.3277777777777778, 0.2777777777777778, 'AMT_INCOME_TOTAL <= 35325.0\\ngini = 0.444\\nsamples = 12\\nvalue = [4, 8]\\nclass = 1'),\n",
       " Text(0.32222222222222224, 0.16666666666666666, 'gini = 0.0\\nsamples = 1\\nvalue = [0, 1]\\nclass = 1'),\n",
       " Text(0.3333333333333333, 0.16666666666666666, 'gini = 0.463\\nsamples = 11\\nvalue = [4, 7]\\nclass = 1'),\n",
       " Text(0.3388888888888889, 0.2777777777777778, 'gini = 0.0\\nsamples = 6\\nvalue = [0, 6]\\nclass = 1'),\n",
       " Text(0.35555555555555557, 0.3888888888888889, 'CNT_FAM_MEMBERS <= 2.5\\ngini = 0.169\\nsamples = 43\\nvalue = [39, 4]\\nclass = 0'),\n",
       " Text(0.35, 0.2777777777777778, 'gini = 0.0\\nsamples = 18\\nvalue = [18, 0]\\nclass = 0'),\n",
       " Text(0.3611111111111111, 0.2777777777777778, 'gini = 0.269\\nsamples = 25\\nvalue = [21, 4]\\nclass = 0'),\n",
       " Text(0.4125, 0.5, 'AMT_INCOME_TOTAL <= 195750.0\\ngini = 0.486\\nsamples = 1562\\nvalue = [651, 911]\\nclass = 1'),\n",
       " Text(0.3861111111111111, 0.3888888888888889, 'AMT_INCOME_TOTAL <= 69750.0\\ngini = 0.471\\nsamples = 1139\\nvalue = [433, 706]\\nclass = 1'),\n",
       " Text(0.37222222222222223, 0.2777777777777778, 'NAME_EDUCATION_TYPE <= 0.895\\ngini = 0.111\\nsamples = 34\\nvalue = [2, 32]\\nclass = 1'),\n",
       " Text(0.36666666666666664, 0.16666666666666666, 'CNT_FAM_MEMBERS <= 2.5\\ngini = 0.231\\nsamples = 15\\nvalue = [2, 13]\\nclass = 1'),\n",
       " Text(0.3611111111111111, 0.05555555555555555, 'gini = 0.346\\nsamples = 9\\nvalue = [2, 7]\\nclass = 1'),\n",
       " Text(0.37222222222222223, 0.05555555555555555, 'gini = 0.0\\nsamples = 6\\nvalue = [0, 6]\\nclass = 1'),\n",
       " Text(0.37777777777777777, 0.16666666666666666, 'gini = 0.0\\nsamples = 19\\nvalue = [0, 19]\\nclass = 1'),\n",
       " Text(0.4, 0.2777777777777778, 'AMT_INCOME_TOTAL <= 81675.0\\ngini = 0.476\\nsamples = 1105\\nvalue = [431, 674]\\nclass = 1'),\n",
       " Text(0.3888888888888889, 0.16666666666666666, 'CNT_FAM_MEMBERS <= 2.5\\ngini = 0.45\\nsamples = 41\\nvalue = [27, 14]\\nclass = 0'),\n",
       " Text(0.38333333333333336, 0.05555555555555555, 'gini = 0.411\\nsamples = 38\\nvalue = [27, 11]\\nclass = 0'),\n",
       " Text(0.39444444444444443, 0.05555555555555555, 'gini = 0.0\\nsamples = 3\\nvalue = [0, 3]\\nclass = 1'),\n",
       " Text(0.4111111111111111, 0.16666666666666666, 'AMT_INCOME_TOTAL <= 190350.0\\ngini = 0.471\\nsamples = 1064\\nvalue = [404, 660]\\nclass = 1'),\n",
       " Text(0.40555555555555556, 0.05555555555555555, 'gini = 0.473\\nsamples = 1052\\nvalue = [404, 648]\\nclass = 1'),\n",
       " Text(0.4166666666666667, 0.05555555555555555, 'gini = 0.0\\nsamples = 12\\nvalue = [0, 12]\\nclass = 1'),\n",
       " Text(0.4388888888888889, 0.3888888888888889, 'AMT_INCOME_TOTAL <= 200250.0\\ngini = 0.5\\nsamples = 423\\nvalue = [218, 205]\\nclass = 0'),\n",
       " Text(0.42777777777777776, 0.2777777777777778, 'CNT_FAM_MEMBERS <= 2.5\\ngini = 0.128\\nsamples = 29\\nvalue = [27, 2]\\nclass = 0'),\n",
       " Text(0.4222222222222222, 0.16666666666666666, 'gini = 0.0\\nsamples = 27\\nvalue = [27, 0]\\nclass = 0'),\n",
       " Text(0.43333333333333335, 0.16666666666666666, 'gini = 0.0\\nsamples = 2\\nvalue = [0, 2]\\nclass = 1'),\n",
       " Text(0.45, 0.2777777777777778, 'CNT_FAM_MEMBERS <= 4.5\\ngini = 0.5\\nsamples = 394\\nvalue = [191, 203]\\nclass = 1'),\n",
       " Text(0.4444444444444444, 0.16666666666666666, 'AMT_INCOME_TOTAL <= 236250.0\\ngini = 0.5\\nsamples = 378\\nvalue = [191, 187]\\nclass = 0'),\n",
       " Text(0.4388888888888889, 0.05555555555555555, 'gini = 0.498\\nsamples = 342\\nvalue = [182, 160]\\nclass = 0'),\n",
       " Text(0.45, 0.05555555555555555, 'gini = 0.375\\nsamples = 36\\nvalue = [9, 27]\\nclass = 1'),\n",
       " Text(0.45555555555555555, 0.16666666666666666, 'gini = 0.0\\nsamples = 16\\nvalue = [0, 16]\\nclass = 1'),\n",
       " Text(0.4777777777777778, 0.7222222222222222, 'NAME_EDUCATION_TYPE <= 0.875\\ngini = 0.32\\nsamples = 110\\nvalue = [22, 88]\\nclass = 1'),\n",
       " Text(0.4666666666666667, 0.6111111111111112, 'CNT_FAM_MEMBERS <= 2.5\\ngini = 0.469\\nsamples = 56\\nvalue = [21, 35]\\nclass = 1'),\n",
       " Text(0.46111111111111114, 0.5, 'CNT_FAM_MEMBERS <= 1.5\\ngini = 0.492\\nsamples = 48\\nvalue = [21, 27]\\nclass = 1'),\n",
       " Text(0.45555555555555555, 0.3888888888888889, 'gini = 0.0\\nsamples = 6\\nvalue = [0, 6]\\nclass = 1'),\n",
       " Text(0.4666666666666667, 0.3888888888888889, 'AMT_INCOME_TOTAL <= 252900.0\\ngini = 0.5\\nsamples = 42\\nvalue = [21, 21]\\nclass = 0'),\n",
       " Text(0.46111111111111114, 0.2777777777777778, 'gini = 0.499\\nsamples = 40\\nvalue = [21, 19]\\nclass = 0'),\n",
       " Text(0.4722222222222222, 0.2777777777777778, 'gini = 0.0\\nsamples = 2\\nvalue = [0, 2]\\nclass = 1'),\n",
       " Text(0.4722222222222222, 0.5, 'gini = 0.0\\nsamples = 8\\nvalue = [0, 8]\\nclass = 1'),\n",
       " Text(0.4888888888888889, 0.6111111111111112, 'CNT_FAM_MEMBERS <= 3.5\\ngini = 0.036\\nsamples = 54\\nvalue = [1, 53]\\nclass = 1'),\n",
       " Text(0.48333333333333334, 0.5, 'gini = 0.0\\nsamples = 48\\nvalue = [0, 48]\\nclass = 1'),\n",
       " Text(0.49444444444444446, 0.5, 'gini = 0.278\\nsamples = 6\\nvalue = [1, 5]\\nclass = 1'),\n",
       " Text(0.8269097222222223, 0.8333333333333334, 'CNT_FAM_MEMBERS <= 3.5\\ngini = 0.497\\nsamples = 8477\\nvalue = [4553, 3924]\\nclass = 0'),\n",
       " Text(0.6899305555555556, 0.7222222222222222, 'AMT_INCOME_TOTAL <= 299250.0\\ngini = 0.496\\nsamples = 7769\\nvalue = [4230, 3539]\\nclass = 0'),\n",
       " Text(0.5840277777777778, 0.6111111111111112, 'CNT_FAM_MEMBERS <= 2.5\\ngini = 0.489\\nsamples = 3276\\nvalue = [1878, 1398]\\nclass = 0'),\n",
       " Text(0.5375, 0.5, 'NAME_EDUCATION_TYPE <= 0.875\\ngini = 0.494\\nsamples = 2524\\nvalue = [1404, 1120]\\nclass = 0'),\n",
       " Text(0.5055555555555555, 0.3888888888888889, 'AMT_INCOME_TOTAL <= 263250.0\\ngini = 0.475\\nsamples = 846\\nvalue = [518, 328]\\nclass = 0'),\n",
       " Text(0.48333333333333334, 0.2777777777777778, 'AMT_INCOME_TOTAL <= 258750.0\\ngini = 0.298\\nsamples = 137\\nvalue = [112, 25]\\nclass = 0'),\n",
       " Text(0.4722222222222222, 0.16666666666666666, 'CNT_FAM_MEMBERS <= 1.5\\ngini = 0.397\\nsamples = 77\\nvalue = [56, 21]\\nclass = 0'),\n",
       " Text(0.4666666666666667, 0.05555555555555555, 'gini = 0.231\\nsamples = 30\\nvalue = [26, 4]\\nclass = 0'),\n",
       " Text(0.4777777777777778, 0.05555555555555555, 'gini = 0.462\\nsamples = 47\\nvalue = [30, 17]\\nclass = 0'),\n",
       " Text(0.49444444444444446, 0.16666666666666666, 'CNT_FAM_MEMBERS <= 1.5\\ngini = 0.124\\nsamples = 60\\nvalue = [56, 4]\\nclass = 0'),\n",
       " Text(0.4888888888888889, 0.05555555555555555, 'gini = 0.0\\nsamples = 2\\nvalue = [0, 2]\\nclass = 1'),\n",
       " Text(0.5, 0.05555555555555555, 'gini = 0.067\\nsamples = 58\\nvalue = [56, 2]\\nclass = 0'),\n",
       " Text(0.5277777777777778, 0.2777777777777778, 'CNT_FAM_MEMBERS <= 1.5\\ngini = 0.489\\nsamples = 709\\nvalue = [406, 303]\\nclass = 0'),\n",
       " Text(0.5166666666666667, 0.16666666666666666, 'AMT_INCOME_TOTAL <= 288000.0\\ngini = 0.5\\nsamples = 198\\nvalue = [99, 99]\\nclass = 0'),\n",
       " Text(0.5111111111111111, 0.05555555555555555, 'gini = 0.488\\nsamples = 125\\nvalue = [53, 72]\\nclass = 1'),\n",
       " Text(0.5222222222222223, 0.05555555555555555, 'gini = 0.466\\nsamples = 73\\nvalue = [46, 27]\\nclass = 0'),\n",
       " Text(0.5388888888888889, 0.16666666666666666, 'AMT_INCOME_TOTAL <= 276750.0\\ngini = 0.48\\nsamples = 511\\nvalue = [307, 204]\\nclass = 0'),\n",
       " Text(0.5333333333333333, 0.05555555555555555, 'gini = 0.468\\nsamples = 361\\nvalue = [226, 135]\\nclass = 0'),\n",
       " Text(0.5444444444444444, 0.05555555555555555, 'gini = 0.497\\nsamples = 150\\nvalue = [81, 69]\\nclass = 0'),\n",
       " Text(0.5694444444444444, 0.3888888888888889, 'AMT_INCOME_TOTAL <= 257062.5\\ngini = 0.498\\nsamples = 1678\\nvalue = [886, 792]\\nclass = 0'),\n",
       " Text(0.5555555555555556, 0.2777777777777778, 'CNT_FAM_MEMBERS <= 1.5\\ngini = 0.36\\nsamples = 34\\nvalue = [26, 8]\\nclass = 0'),\n",
       " Text(0.55, 0.16666666666666666, 'gini = 0.0\\nsamples = 1\\nvalue = [0, 1]\\nclass = 1'),\n",
       " Text(0.5611111111111111, 0.16666666666666666, 'gini = 0.334\\nsamples = 33\\nvalue = [26, 7]\\nclass = 0'),\n",
       " Text(0.5833333333333334, 0.2777777777777778, 'AMT_INCOME_TOTAL <= 263250.0\\ngini = 0.499\\nsamples = 1644\\nvalue = [860, 784]\\nclass = 0'),\n",
       " Text(0.5722222222222222, 0.16666666666666666, 'NAME_EDUCATION_TYPE <= 0.886\\ngini = 0.234\\nsamples = 37\\nvalue = [5, 32]\\nclass = 1'),\n",
       " Text(0.5666666666666667, 0.05555555555555555, 'gini = 0.0\\nsamples = 18\\nvalue = [0, 18]\\nclass = 1'),\n",
       " Text(0.5777777777777777, 0.05555555555555555, 'gini = 0.388\\nsamples = 19\\nvalue = [5, 14]\\nclass = 1'),\n",
       " Text(0.5944444444444444, 0.16666666666666666, 'AMT_INCOME_TOTAL <= 272250.0\\ngini = 0.498\\nsamples = 1607\\nvalue = [855, 752]\\nclass = 0'),\n",
       " Text(0.5888888888888889, 0.05555555555555555, 'gini = 0.5\\nsamples = 1071\\nvalue = [548, 523]\\nclass = 0'),\n",
       " Text(0.6, 0.05555555555555555, 'gini = 0.489\\nsamples = 536\\nvalue = [307, 229]\\nclass = 0'),\n",
       " Text(0.6305555555555555, 0.5, 'AMT_INCOME_TOTAL <= 267750.0\\ngini = 0.466\\nsamples = 752\\nvalue = [474, 278]\\nclass = 0'),\n",
       " Text(0.625, 0.3888888888888889, 'gini = 0.0\\nsamples = 19\\nvalue = [0, 19]\\nclass = 1'),\n",
       " Text(0.6361111111111111, 0.3888888888888889, 'NAME_EDUCATION_TYPE <= 0.873\\ngini = 0.457\\nsamples = 733\\nvalue = [474, 259]\\nclass = 0'),\n",
       " Text(0.6222222222222222, 0.2777777777777778, 'AMT_INCOME_TOTAL <= 288000.0\\ngini = 0.492\\nsamples = 183\\nvalue = [103, 80]\\nclass = 0'),\n",
       " Text(0.6166666666666667, 0.16666666666666666, 'AMT_INCOME_TOTAL <= 274500.0\\ngini = 0.447\\nsamples = 86\\nvalue = [29, 57]\\nclass = 1'),\n",
       " Text(0.6111111111111112, 0.05555555555555555, 'gini = 0.46\\nsamples = 81\\nvalue = [29, 52]\\nclass = 1'),\n",
       " Text(0.6222222222222222, 0.05555555555555555, 'gini = 0.0\\nsamples = 5\\nvalue = [0, 5]\\nclass = 1'),\n",
       " Text(0.6277777777777778, 0.16666666666666666, 'gini = 0.362\\nsamples = 97\\nvalue = [74, 23]\\nclass = 0'),\n",
       " Text(0.65, 0.2777777777777778, 'AMT_INCOME_TOTAL <= 281250.0\\ngini = 0.439\\nsamples = 550\\nvalue = [371, 179]\\nclass = 0'),\n",
       " Text(0.6388888888888888, 0.16666666666666666, 'NAME_EDUCATION_TYPE <= 0.877\\ngini = 0.416\\nsamples = 464\\nvalue = [327, 137]\\nclass = 0'),\n",
       " Text(0.6333333333333333, 0.05555555555555555, 'gini = 0.245\\nsamples = 28\\nvalue = [24, 4]\\nclass = 0'),\n",
       " Text(0.6444444444444445, 0.05555555555555555, 'gini = 0.424\\nsamples = 436\\nvalue = [303, 133]\\nclass = 0'),\n",
       " Text(0.6611111111111111, 0.16666666666666666, 'NAME_EDUCATION_TYPE <= 0.886\\ngini = 0.5\\nsamples = 86\\nvalue = [44, 42]\\nclass = 0'),\n",
       " Text(0.6555555555555556, 0.05555555555555555, 'gini = 0.495\\nsamples = 51\\nvalue = [23, 28]\\nclass = 1'),\n",
       " Text(0.6666666666666666, 0.05555555555555555, 'gini = 0.48\\nsamples = 35\\nvalue = [21, 14]\\nclass = 0'),\n",
       " Text(0.7958333333333333, 0.6111111111111112, 'AMT_INCOME_TOTAL <= 393750.0\\ngini = 0.499\\nsamples = 4493\\nvalue = [2352, 2141]\\nclass = 0'),\n",
       " Text(0.75, 0.5, 'AMT_INCOME_TOTAL <= 389250.0\\ngini = 0.5\\nsamples = 2859\\nvalue = [1414, 1445]\\nclass = 1'),\n",
       " Text(0.7166666666666667, 0.3888888888888889, 'AMT_INCOME_TOTAL <= 330750.0\\ngini = 0.5\\nsamples = 2808\\nvalue = [1403, 1405]\\nclass = 1'),\n",
       " Text(0.6944444444444444, 0.2777777777777778, 'AMT_INCOME_TOTAL <= 325125.0\\ngini = 0.498\\nsamples = 1413\\nvalue = [747, 666]\\nclass = 0'),\n",
       " Text(0.6833333333333333, 0.16666666666666666, 'CNT_FAM_MEMBERS <= 1.5\\ngini = 0.499\\nsamples = 1276\\nvalue = [617, 659]\\nclass = 1'),\n",
       " Text(0.6777777777777778, 0.05555555555555555, 'gini = 0.485\\nsamples = 250\\nvalue = [147, 103]\\nclass = 0'),\n",
       " Text(0.6888888888888889, 0.05555555555555555, 'gini = 0.496\\nsamples = 1026\\nvalue = [470, 556]\\nclass = 1'),\n",
       " Text(0.7055555555555556, 0.16666666666666666, 'AMT_INCOME_TOTAL <= 327375.0\\ngini = 0.097\\nsamples = 137\\nvalue = [130, 7]\\nclass = 0'),\n",
       " Text(0.7, 0.05555555555555555, 'gini = 0.375\\nsamples = 8\\nvalue = [6, 2]\\nclass = 0'),\n",
       " Text(0.7111111111111111, 0.05555555555555555, 'gini = 0.075\\nsamples = 129\\nvalue = [124, 5]\\nclass = 0'),\n",
       " Text(0.7388888888888889, 0.2777777777777778, 'AMT_INCOME_TOTAL <= 353250.0\\ngini = 0.498\\nsamples = 1395\\nvalue = [656, 739]\\nclass = 1'),\n",
       " Text(0.7277777777777777, 0.16666666666666666, 'AMT_INCOME_TOTAL <= 339750.0\\ngini = 0.447\\nsamples = 314\\nvalue = [106, 208]\\nclass = 1'),\n",
       " Text(0.7222222222222222, 0.05555555555555555, 'gini = 0.472\\nsamples = 278\\nvalue = [106, 172]\\nclass = 1'),\n",
       " Text(0.7333333333333333, 0.05555555555555555, 'gini = 0.0\\nsamples = 36\\nvalue = [0, 36]\\nclass = 1'),\n",
       " Text(0.75, 0.16666666666666666, 'CNT_FAM_MEMBERS <= 1.5\\ngini = 0.5\\nsamples = 1081\\nvalue = [550, 531]\\nclass = 0'),\n",
       " Text(0.7444444444444445, 0.05555555555555555, 'gini = 0.473\\nsamples = 211\\nvalue = [130, 81]\\nclass = 0'),\n",
       " Text(0.7555555555555555, 0.05555555555555555, 'gini = 0.499\\nsamples = 870\\nvalue = [420, 450]\\nclass = 1'),\n",
       " Text(0.7833333333333333, 0.3888888888888889, 'CNT_FAM_MEMBERS <= 2.5\\ngini = 0.338\\nsamples = 51\\nvalue = [11, 40]\\nclass = 1'),\n",
       " Text(0.7777777777777778, 0.2777777777777778, 'CNT_FAM_MEMBERS <= 1.5\\ngini = 0.229\\nsamples = 38\\nvalue = [5, 33]\\nclass = 1'),\n",
       " Text(0.7722222222222223, 0.16666666666666666, 'NAME_EDUCATION_TYPE <= 0.875\\ngini = 0.363\\nsamples = 21\\nvalue = [5, 16]\\nclass = 1'),\n",
       " Text(0.7666666666666667, 0.05555555555555555, 'gini = 0.0\\nsamples = 3\\nvalue = [0, 3]\\nclass = 1'),\n",
       " Text(0.7777777777777778, 0.05555555555555555, 'gini = 0.401\\nsamples = 18\\nvalue = [5, 13]\\nclass = 1'),\n",
       " Text(0.7833333333333333, 0.16666666666666666, 'gini = 0.0\\nsamples = 17\\nvalue = [0, 17]\\nclass = 1'),\n",
       " Text(0.7888888888888889, 0.2777777777777778, 'gini = 0.497\\nsamples = 13\\nvalue = [6, 7]\\nclass = 1'),\n",
       " Text(0.8416666666666667, 0.5, 'AMT_INCOME_TOTAL <= 416250.0\\ngini = 0.489\\nsamples = 1634\\nvalue = [938, 696]\\nclass = 0'),\n",
       " Text(0.8111111111111111, 0.3888888888888889, 'CNT_FAM_MEMBERS <= 2.5\\ngini = 0.383\\nsamples = 530\\nvalue = [393, 137]\\nclass = 0'),\n",
       " Text(0.8, 0.2777777777777778, 'AMT_INCOME_TOTAL <= 409500.0\\ngini = 0.343\\nsamples = 355\\nvalue = [277, 78]\\nclass = 0'),\n",
       " Text(0.7944444444444444, 0.16666666666666666, 'CNT_FAM_MEMBERS <= 1.5\\ngini = 0.354\\nsamples = 339\\nvalue = [261, 78]\\nclass = 0'),\n",
       " Text(0.7888888888888889, 0.05555555555555555, 'gini = 0.355\\nsamples = 13\\nvalue = [3, 10]\\nclass = 1'),\n",
       " Text(0.8, 0.05555555555555555, 'gini = 0.33\\nsamples = 326\\nvalue = [258, 68]\\nclass = 0'),\n",
       " Text(0.8055555555555556, 0.16666666666666666, 'gini = 0.0\\nsamples = 16\\nvalue = [16, 0]\\nclass = 0'),\n",
       " Text(0.8222222222222222, 0.2777777777777778, 'NAME_EDUCATION_TYPE <= 0.886\\ngini = 0.447\\nsamples = 175\\nvalue = [116, 59]\\nclass = 0'),\n",
       " Text(0.8166666666666667, 0.16666666666666666, 'NAME_EDUCATION_TYPE <= 0.875\\ngini = 0.442\\nsamples = 173\\nvalue = [116, 57]\\nclass = 0'),\n",
       " Text(0.8111111111111111, 0.05555555555555555, 'gini = 0.444\\nsamples = 90\\nvalue = [60, 30]\\nclass = 0'),\n",
       " Text(0.8222222222222222, 0.05555555555555555, 'gini = 0.439\\nsamples = 83\\nvalue = [56, 27]\\nclass = 0'),\n",
       " Text(0.8277777777777777, 0.16666666666666666, 'gini = 0.0\\nsamples = 2\\nvalue = [0, 2]\\nclass = 1'),\n",
       " Text(0.8722222222222222, 0.3888888888888889, 'AMT_INCOME_TOTAL <= 506250.0\\ngini = 0.5\\nsamples = 1104\\nvalue = [545, 559]\\nclass = 1'),\n",
       " Text(0.85, 0.2777777777777778, 'AMT_INCOME_TOTAL <= 443250.0\\ngini = 0.488\\nsamples = 523\\nvalue = [221, 302]\\nclass = 1'),\n",
       " Text(0.8388888888888889, 0.16666666666666666, 'NAME_EDUCATION_TYPE <= 0.875\\ngini = 0.477\\nsamples = 79\\nvalue = [48, 31]\\nclass = 0'),\n",
       " Text(0.8333333333333334, 0.05555555555555555, 'gini = 0.32\\nsamples = 25\\nvalue = [5, 20]\\nclass = 1'),\n",
       " Text(0.8444444444444444, 0.05555555555555555, 'gini = 0.324\\nsamples = 54\\nvalue = [43, 11]\\nclass = 0'),\n",
       " Text(0.8611111111111112, 0.16666666666666666, 'AMT_INCOME_TOTAL <= 447750.0\\ngini = 0.476\\nsamples = 444\\nvalue = [173, 271]\\nclass = 1'),\n",
       " Text(0.8555555555555555, 0.05555555555555555, 'gini = 0.0\\nsamples = 6\\nvalue = [0, 6]\\nclass = 1'),\n",
       " Text(0.8666666666666667, 0.05555555555555555, 'gini = 0.478\\nsamples = 438\\nvalue = [173, 265]\\nclass = 1'),\n",
       " Text(0.8944444444444445, 0.2777777777777778, 'AMT_INCOME_TOTAL <= 589500.0\\ngini = 0.493\\nsamples = 581\\nvalue = [324, 257]\\nclass = 0'),\n",
       " Text(0.8833333333333333, 0.16666666666666666, 'AMT_INCOME_TOTAL <= 573750.0\\ngini = 0.428\\nsamples = 271\\nvalue = [187, 84]\\nclass = 0'),\n",
       " Text(0.8777777777777778, 0.05555555555555555, 'gini = 0.453\\nsamples = 213\\nvalue = [139, 74]\\nclass = 0'),\n",
       " Text(0.8888888888888888, 0.05555555555555555, 'gini = 0.285\\nsamples = 58\\nvalue = [48, 10]\\nclass = 0'),\n",
       " Text(0.9055555555555556, 0.16666666666666666, 'NAME_EDUCATION_TYPE <= 0.875\\ngini = 0.493\\nsamples = 310\\nvalue = [137, 173]\\nclass = 1'),\n",
       " Text(0.9, 0.05555555555555555, 'gini = 0.455\\nsamples = 180\\nvalue = [63, 117]\\nclass = 1'),\n",
       " Text(0.9111111111111111, 0.05555555555555555, 'gini = 0.49\\nsamples = 130\\nvalue = [74, 56]\\nclass = 0'),\n",
       " Text(0.9638888888888889, 0.7222222222222222, 'AMT_INCOME_TOTAL <= 267750.0\\ngini = 0.496\\nsamples = 708\\nvalue = [323, 385]\\nclass = 1'),\n",
       " Text(0.9583333333333334, 0.6111111111111112, 'gini = 0.0\\nsamples = 9\\nvalue = [0, 9]\\nclass = 1'),\n",
       " Text(0.9694444444444444, 0.6111111111111112, 'AMT_INCOME_TOTAL <= 607500.0\\ngini = 0.497\\nsamples = 699\\nvalue = [323, 376]\\nclass = 1'),\n",
       " Text(0.9555555555555556, 0.5, 'AMT_INCOME_TOTAL <= 517050.0\\ngini = 0.499\\nsamples = 670\\nvalue = [317, 353]\\nclass = 1'),\n",
       " Text(0.9444444444444444, 0.3888888888888889, 'AMT_INCOME_TOTAL <= 461250.0\\ngini = 0.498\\nsamples = 660\\nvalue = [308, 352]\\nclass = 1'),\n",
       " Text(0.9388888888888889, 0.2777777777777778, 'AMT_INCOME_TOTAL <= 447750.0\\ngini = 0.498\\nsamples = 654\\nvalue = [308, 346]\\nclass = 1'),\n",
       " Text(0.9277777777777778, 0.16666666666666666, 'AMT_INCOME_TOTAL <= 384750.0\\ngini = 0.495\\nsamples = 548\\nvalue = [247, 301]\\nclass = 1'),\n",
       " Text(0.9222222222222223, 0.05555555555555555, 'gini = 0.498\\nsamples = 523\\nvalue = [247, 276]\\nclass = 1'),\n",
       " Text(0.9333333333333333, 0.05555555555555555, 'gini = 0.0\\nsamples = 25\\nvalue = [0, 25]\\nclass = 1'),\n",
       " Text(0.95, 0.16666666666666666, 'CNT_FAM_MEMBERS <= 4.5\\ngini = 0.489\\nsamples = 106\\nvalue = [61, 45]\\nclass = 0'),\n",
       " Text(0.9444444444444444, 0.05555555555555555, 'gini = 0.497\\nsamples = 78\\nvalue = [36, 42]\\nclass = 1'),\n",
       " Text(0.9555555555555556, 0.05555555555555555, 'gini = 0.191\\nsamples = 28\\nvalue = [25, 3]\\nclass = 0'),\n",
       " Text(0.95, 0.2777777777777778, 'gini = 0.0\\nsamples = 6\\nvalue = [0, 6]\\nclass = 1'),\n",
       " Text(0.9666666666666667, 0.3888888888888889, 'NAME_EDUCATION_TYPE <= 0.875\\ngini = 0.18\\nsamples = 10\\nvalue = [9, 1]\\nclass = 0'),\n",
       " Text(0.9611111111111111, 0.2777777777777778, 'gini = 0.0\\nsamples = 1\\nvalue = [0, 1]\\nclass = 1'),\n",
       " Text(0.9722222222222222, 0.2777777777777778, 'gini = 0.0\\nsamples = 9\\nvalue = [9, 0]\\nclass = 0'),\n",
       " Text(0.9833333333333333, 0.5, 'AMT_INCOME_TOTAL <= 787500.0\\ngini = 0.328\\nsamples = 29\\nvalue = [6, 23]\\nclass = 1'),\n",
       " Text(0.9777777777777777, 0.3888888888888889, 'gini = 0.0\\nsamples = 20\\nvalue = [0, 20]\\nclass = 1'),\n",
       " Text(0.9888888888888889, 0.3888888888888889, 'AMT_INCOME_TOTAL <= 1012500.0\\ngini = 0.444\\nsamples = 9\\nvalue = [6, 3]\\nclass = 0'),\n",
       " Text(0.9833333333333333, 0.2777777777777778, 'gini = 0.375\\nsamples = 8\\nvalue = [6, 2]\\nclass = 0'),\n",
       " Text(0.9944444444444445, 0.2777777777777778, 'gini = 0.0\\nsamples = 1\\nvalue = [0, 1]\\nclass = 1')]"
      ]
     },
     "execution_count": 36,
     "metadata": {},
     "output_type": "execute_result"
    }
   ],
   "source": [
    "# Extract Response and Predictors\n",
    "store = ['AMT_INCOME_TOTAL','CNT_FAM_MEMBERS','NAME_EDUCATION_TYPE']\n",
    "\n",
    "X = pd.DataFrame(merged_df[store]) \n",
    "y = pd.DataFrame(merged_df['STATUS']) \n",
    "\n",
    "# Split the Dataset into Train and Test\n",
    "X_train, X_test, y_train, y_test = train_test_split(X, y, test_size = 0.3)\n",
    "\n",
    "# Decision Tree using Train Data\n",
    "dectree = DecisionTreeClassifier(max_depth = 8)  # change max_depth to experiment\n",
    "dectree.fit(X_train, y_train)                    # train the decision tree model\n",
    "\n",
    "# Plot the trained Decision Tree\n",
    "f = plt.figure(figsize=(24,24))\n",
    "plot_tree(dectree, filled=True, rounded=True, \n",
    "          feature_names=X_train.columns, \n",
    "          class_names=['0','1'])"
   ]
  },
  {
   "cell_type": "code",
   "execution_count": 37,
   "id": "4cfea736",
   "metadata": {},
   "outputs": [
    {
     "name": "stdout",
     "output_type": "stream",
     "text": [
      "Train Data\n",
      "Accuracy  :\t 0.5542386500602652\n",
      "\n",
      "TPR Train :\t 0.4709826384263576\n",
      "TNR Train :\t 0.6383914546025762\n",
      "\n",
      "FPR Train :\t 0.3616085453974238\n",
      "FNR Train :\t 0.5290173615736424\n"
     ]
    },
    {
     "data": {
      "text/plain": [
       "<AxesSubplot:>"
      ]
     },
     "execution_count": 37,
     "metadata": {},
     "output_type": "execute_result"
    }
   ],
   "source": [
    "# Predict the Response corresponding to Predictors\n",
    "y_train_pred = dectree.predict(X_train)\n",
    "\n",
    "# Print the Classification Accuracy\n",
    "print(\"Train Data\")\n",
    "print(\"Accuracy  :\\t\", dectree.score(X_train, y_train))\n",
    "print()\n",
    "\n",
    "# Print the Accuracy Measures from the Confusion Matrix\n",
    "cmTrain = confusion_matrix(y_train, y_train_pred)\n",
    "tpTrain = cmTrain[1][1] # True Positives : Good (1) predicted Good (1)\n",
    "fpTrain = cmTrain[0][1] # False Positives : Bad (0) predicted Good (1)\n",
    "tnTrain = cmTrain[0][0] # True Negatives : Bad (0) predicted Bad (0)\n",
    "fnTrain = cmTrain[1][0] # False Negatives : Good (1) predicted Bad (0)\n",
    "\n",
    "print(\"TPR Train :\\t\", (tpTrain/(tpTrain + fnTrain)))\n",
    "print(\"TNR Train :\\t\", (tnTrain/(tnTrain + fpTrain)))\n",
    "print()\n",
    "\n",
    "print(\"FPR Train :\\t\", (fpTrain/(tnTrain + fpTrain)))\n",
    "print(\"FNR Train :\\t\", (fnTrain/(tpTrain + fnTrain)))\n",
    "\n",
    "# Plot the two-way Confusion Matrix\n",
    "sb.heatmap(confusion_matrix(y_train, y_train_pred), \n",
    "           annot = True, fmt=\".0f\", annot_kws={\"size\": 18})"
   ]
  },
  {
   "cell_type": "code",
   "execution_count": 38,
   "id": "decfc511",
   "metadata": {},
   "outputs": [
    {
     "name": "stdout",
     "output_type": "stream",
     "text": [
      "Test Data\n",
      "Accuracy  :\t 0.5512967399229247\n",
      "\n",
      "TPR Test :\t 0.45965615441409136\n",
      "TNR Test :\t 0.6406748276926242\n",
      "\n",
      "FPR Test :\t 0.35932517230737576\n",
      "FNR Test :\t 0.5403438455859086\n"
     ]
    },
    {
     "data": {
      "text/plain": [
       "<AxesSubplot:>"
      ]
     },
     "execution_count": 38,
     "metadata": {},
     "output_type": "execute_result"
    }
   ],
   "source": [
    "\n",
    "# Predict the Response corresponding to Predictors\n",
    "y_test_pred = dectree.predict(X_test)\n",
    "\n",
    "# Print the Classification Accuracy\n",
    "print(\"Test Data\")\n",
    "print(\"Accuracy  :\\t\", dectree.score(X_test, y_test))\n",
    "print()\n",
    "\n",
    "# Print the Accuracy Measures from the Confusion Matrix\n",
    "cmTest = confusion_matrix(y_test, y_test_pred)\n",
    "tpTest = cmTest[1][1] # True Positives : Good (1) predicted Good (1)\n",
    "fpTest = cmTest[0][1] # False Positives : Bad (0) predicted Good (1)\n",
    "tnTest = cmTest[0][0] # True Negatives : Bad (0) predicted Bad (0)\n",
    "fnTest = cmTest[1][0] # False Negatives : Good (1) predicted Bad (0)\n",
    "\n",
    "print(\"TPR Test :\\t\", (tpTest/(tpTest + fnTest)))\n",
    "print(\"TNR Test :\\t\", (tnTest/(tnTest + fpTest)))\n",
    "print()\n",
    "\n",
    "print(\"FPR Test :\\t\", (fpTest/(fpTest + tnTest)))\n",
    "print(\"FNR Test :\\t\", (fnTest/(fnTest + tpTest)))\n",
    "\n",
    "# Plot the two-way Confusion Matrix\n",
    "sb.heatmap(confusion_matrix(y_test, y_test_pred), \n",
    "           annot = True, fmt=\".0f\", annot_kws={\"size\": 18})"
   ]
  },
  {
   "cell_type": "code",
   "execution_count": 46,
   "id": "0fb173eb",
   "metadata": {},
   "outputs": [
    {
     "data": {
      "text/plain": [
       "RandomForestClassifier(max_depth=15)"
      ]
     },
     "execution_count": 46,
     "metadata": {},
     "output_type": "execute_result"
    }
   ],
   "source": [
    "from sklearn.ensemble import RandomForestClassifier\n",
    "\n",
    "# Create the Random Forest object\n",
    "rforest = RandomForestClassifier(n_estimators = 100,  # n_estimators denote number of trees\n",
    "                                 max_depth = 15)       # set the maximum depth of each tree\n",
    "\n",
    "# Fit Random Forest on Train Data\n",
    "rforest.fit(X_train, y_train.STATUS.ravel())"
   ]
  },
  {
   "cell_type": "code",
   "execution_count": 47,
   "id": "f2ef0179",
   "metadata": {},
   "outputs": [
    {
     "name": "stdout",
     "output_type": "stream",
     "text": [
      "Train Data\n",
      "Accuracy  :\t 0.6094370787018437\n",
      "\n",
      "TPR Train :\t 0.6601429848078642\n",
      "TNR Train :\t 0.5588261528855588\n",
      "\n",
      "FPR Train :\t 0.4411738471144412\n",
      "FNR Train :\t 0.33985701519213585\n"
     ]
    },
    {
     "data": {
      "text/plain": [
       "<AxesSubplot:>"
      ]
     },
     "execution_count": 47,
     "metadata": {},
     "output_type": "execute_result"
    }
   ],
   "source": [
    "\n",
    "# Predict the Response corresponding to Predictors\n",
    "y_train_pred = rforest.predict(X_train)\n",
    "\n",
    "# Print the Classification Accuracy\n",
    "print(\"Train Data\")\n",
    "print(\"Accuracy  :\\t\", rforest.score(X_train, y_train))\n",
    "print()\n",
    "\n",
    "# Print the Accuracy Measures from the Confusion Matrix\n",
    "cmTrain = confusion_matrix(y_train, y_train_pred)\n",
    "tpTrain = cmTrain[1][1] # True Positives : Good (1) predicted Good (1)\n",
    "fpTrain = cmTrain[0][1] # False Positives : Bad (0) predicted Good (1)\n",
    "tnTrain = cmTrain[0][0] # True Negatives : Bad (0) predicted Bad (0)\n",
    "fnTrain = cmTrain[1][0] # False Negatives : Good (1) predicted Bad (0)\n",
    "\n",
    "print(\"TPR Train :\\t\", (tpTrain/(tpTrain + fnTrain)))\n",
    "print(\"TNR Train :\\t\", (tnTrain/(tnTrain + fpTrain)))\n",
    "print()\n",
    "\n",
    "print(\"FPR Train :\\t\", (fpTrain/(tnTrain + fpTrain)))\n",
    "print(\"FNR Train :\\t\", (fnTrain/(tpTrain + fnTrain)))\n",
    "\n",
    "# Plot the two-way Confusion Matrix\n",
    "sb.heatmap(confusion_matrix(y_train, y_train_pred), \n",
    "           annot = True, fmt=\".0f\", annot_kws={\"size\": 18})"
   ]
  },
  {
   "cell_type": "code",
   "execution_count": 48,
   "id": "7cf1ab9a",
   "metadata": {},
   "outputs": [
    {
     "name": "stdout",
     "output_type": "stream",
     "text": [
      "Test Data\n",
      "Accuracy  :\t 0.6010832204978648\n",
      "\n",
      "TPR Test :\t 0.6544377468301809\n",
      "TNR Test :\t 0.5474947807933194\n",
      "\n",
      "FPR Test :\t 0.4525052192066806\n",
      "FNR Test :\t 0.34556225316981914\n"
     ]
    },
    {
     "data": {
      "text/plain": [
       "<AxesSubplot:>"
      ]
     },
     "execution_count": 48,
     "metadata": {},
     "output_type": "execute_result"
    }
   ],
   "source": [
    "# Predict the Response corresponding to Predictors\n",
    "y_test_pred = rforest.predict(X_test)\n",
    "\n",
    "# Print the Classification Accuracy\n",
    "print(\"Test Data\")\n",
    "print(\"Accuracy  :\\t\", rforest.score(X_test, y_test))\n",
    "print()\n",
    "\n",
    "# Print the Accuracy Measures from the Confusion Matrix\n",
    "cmTest = confusion_matrix(y_test, y_test_pred)\n",
    "tpTest = cmTest[1][1] # True Positives : Good (1) predicted Good (1)\n",
    "fpTest = cmTest[0][1] # False Positives : Bad (0) predicted Good (1)\n",
    "tnTest = cmTest[0][0] # True Negatives : Bad (0) predicted Bad (0)\n",
    "fnTest = cmTest[1][0] # False Negatives : Good (1) predicted Bad (0)\n",
    "\n",
    "print(\"TPR Test :\\t\", (tpTest/(tpTest + fnTest)))\n",
    "print(\"TNR Test :\\t\", (tnTest/(tnTest + fpTest)))\n",
    "print()\n",
    "\n",
    "print(\"FPR Test :\\t\", (fpTest/(fpTest + tnTest)))\n",
    "print(\"FNR Test :\\t\", (fnTest/(fnTest + tpTest)))\n",
    "\n",
    "# Plot the two-way Confusion Matrix\n",
    "sb.heatmap(confusion_matrix(y_test, y_test_pred), \n",
    "           annot = True, fmt=\".0f\", annot_kws={\"size\": 18})"
   ]
  },
  {
   "cell_type": "code",
   "execution_count": 42,
   "id": "9573ba09",
   "metadata": {},
   "outputs": [],
   "source": [
    "X_train, X_test, y_train, y_test = train_test_split(X, y, test_size = 0.3)"
   ]
  },
  {
   "cell_type": "code",
   "execution_count": 52,
   "id": "cb4173aa",
   "metadata": {},
   "outputs": [
    {
     "data": {
      "text/plain": [
       "GridSearchCV(cv=5, estimator=RandomForestClassifier(),\n",
       "             param_grid={'max_depth': array([14, 15, 16, 17, 18, 19, 20, 21, 22, 23, 24]),\n",
       "                         'n_estimators': array([100, 200, 300, 400, 500])},\n",
       "             scoring='balanced_accuracy')"
      ]
     },
     "execution_count": 52,
     "metadata": {},
     "output_type": "execute_result"
    }
   ],
   "source": [
    "from sklearn.model_selection import GridSearchCV\n",
    "\n",
    "# Define the Hyper-parameter Grid to search on, in case of Random Forest\n",
    "param_grid = {'n_estimators': np.arange(100,501,100\n",
    "                                       ),   # number of trees 100, 200, ..., 1000\n",
    "              'max_depth': np.arange(14, 25)}             # depth of trees 2, 3, 4, 5, ..., 10\n",
    "\n",
    "# Create the Hyper-parameter Grid\n",
    "hpGrid = GridSearchCV(RandomForestClassifier(),   # the model family\n",
    "                      param_grid,                 # the search grid\n",
    "                      cv = 5,                     # 5-fold cross-validation\n",
    "                      scoring = 'balanced_accuracy')       # score to evaluate\n",
    "\n",
    "# Train the models using Cross-Validation\n",
    "hpGrid.fit(X_train, y_train.STATUS.ravel())"
   ]
  },
  {
   "cell_type": "code",
   "execution_count": 53,
   "id": "c24a9e42",
   "metadata": {},
   "outputs": [
    {
     "name": "stdout",
     "output_type": "stream",
     "text": [
      "RandomForestClassifier(max_depth=21, n_estimators=500)\n",
      "0.5983409389822494\n"
     ]
    }
   ],
   "source": [
    "# Fetch the best Model or the best set of Hyper-parameters\n",
    "print(hpGrid.best_estimator_)\n",
    "\n",
    "# Print the score (accuracy) of the best Model after CV\n",
    "print(np.abs(hpGrid.best_score_))"
   ]
  },
  {
   "cell_type": "code",
   "execution_count": 62,
   "id": "4a246fa5",
   "metadata": {},
   "outputs": [
    {
     "data": {
      "text/plain": [
       "RandomForestClassifier(max_depth=21, n_estimators=500)"
      ]
     },
     "execution_count": 62,
     "metadata": {},
     "output_type": "execute_result"
    }
   ],
   "source": [
    "# Split the Dataset into Train and Test\n",
    "X_train, X_test, y_train, y_test = train_test_split(X, y, test_size = 0.3)\n",
    "\n",
    "# Import RandomForestClassifier model from Scikit-Learn\n",
    "from sklearn.ensemble import RandomForestClassifier\n",
    "\n",
    "# Create the Random Forest object\n",
    "rforest = RandomForestClassifier(n_estimators = 500,   # found using GridSearchCV\n",
    "                                 max_depth = 21)       # found using GridSearchCV\n",
    "\n",
    "# Fit Random Forest on Train Data\n",
    "rforest.fit(X_train, y_train.STATUS.ravel())"
   ]
  },
  {
   "cell_type": "code",
   "execution_count": 63,
   "id": "75a79ce9",
   "metadata": {},
   "outputs": [
    {
     "name": "stdout",
     "output_type": "stream",
     "text": [
      "Train Data\n",
      "Accuracy  :\t 0.6098165260479443\n",
      "\n",
      "TPR Train :\t 0.6352920164315057\n",
      "TNR Train :\t 0.5843524056056414\n",
      "\n",
      "FPR Train :\t 0.41564759439435867\n",
      "FNR Train :\t 0.3647079835684944\n"
     ]
    },
    {
     "data": {
      "text/plain": [
       "<AxesSubplot:>"
      ]
     },
     "execution_count": 63,
     "metadata": {},
     "output_type": "execute_result"
    }
   ],
   "source": [
    "# Predict the Response corresponding to Predictors\n",
    "y_train_pred = rforest.predict(X_train)\n",
    "\n",
    "# Print the Classification Accuracy\n",
    "print(\"Train Data\")\n",
    "print(\"Accuracy  :\\t\", rforest.score(X_train, y_train))\n",
    "print()\n",
    "\n",
    "# Print the Accuracy Measures from the Confusion Matrix\n",
    "cmTrain = confusion_matrix(y_train, y_train_pred)\n",
    "tpTrain = cmTrain[1][1] # True Positives : Good (1) predicted Good (1)\n",
    "fpTrain = cmTrain[0][1] # False Positives : Bad (0) predicted Good (1)\n",
    "tnTrain = cmTrain[0][0] # True Negatives : Bad (0) predicted Bad (0)\n",
    "fnTrain = cmTrain[1][0] # False Negatives : Good (1) predicted Bad (0)\n",
    "\n",
    "print(\"TPR Train :\\t\", (tpTrain/(tpTrain + fnTrain)))\n",
    "print(\"TNR Train :\\t\", (tnTrain/(tnTrain + fpTrain)))\n",
    "print()\n",
    "\n",
    "print(\"FPR Train :\\t\", (fpTrain/(tnTrain + fpTrain)))\n",
    "print(\"FNR Train :\\t\", (fnTrain/(tpTrain + fnTrain)))\n",
    "\n",
    "# Plot the two-way Confusion Matrix\n",
    "sb.heatmap(confusion_matrix(y_train, y_train_pred), \n",
    "           annot = True, fmt=\".0f\", annot_kws={\"size\": 18})"
   ]
  },
  {
   "cell_type": "code",
   "execution_count": 64,
   "id": "83687af6",
   "metadata": {},
   "outputs": [
    {
     "name": "stdout",
     "output_type": "stream",
     "text": [
      "Test Data\n",
      "Accuracy  :\t 0.6021247786688887\n",
      "\n",
      "TPR Test :\t 0.623776806162815\n",
      "TNR Test :\t 0.5804501875781576\n",
      "\n",
      "FPR Test :\t 0.4195498124218424\n",
      "FNR Test :\t 0.3762231938371851\n"
     ]
    },
    {
     "data": {
      "text/plain": [
       "<AxesSubplot:>"
      ]
     },
     "execution_count": 64,
     "metadata": {},
     "output_type": "execute_result"
    }
   ],
   "source": [
    "# Predict the Response corresponding to Predictors\n",
    "y_test_pred = rforest.predict(X_test)\n",
    "\n",
    "# Print the Classification Accuracy\n",
    "print(\"Test Data\")\n",
    "print(\"Accuracy  :\\t\", rforest.score(X_test, y_test))\n",
    "print()\n",
    "\n",
    "# Print the Accuracy Measures from the Confusion Matrix\n",
    "cmTest = confusion_matrix(y_test, y_test_pred)\n",
    "tpTest = cmTest[1][1] # True Positives : Good (1) predicted Good (1)\n",
    "fpTest = cmTest[0][1] # False Positives : Bad (0) predicted Good (1)\n",
    "tnTest = cmTest[0][0] # True Negatives : Bad (0) predicted Bad (0)\n",
    "fnTest = cmTest[1][0] # False Negatives : Good (1) predicted Bad (0)\n",
    "\n",
    "print(\"TPR Test :\\t\", (tpTest/(tpTest + fnTest)))\n",
    "print(\"TNR Test :\\t\", (tnTest/(tnTest + fpTest)))\n",
    "print()\n",
    "\n",
    "print(\"FPR Test :\\t\", (fpTest/(fpTest + tnTest)))\n",
    "print(\"FNR Test :\\t\", (fnTest/(fnTest + tpTest)))\n",
    "\n",
    "# Plot the two-way Confusion Matrix\n",
    "sb.heatmap(confusion_matrix(y_test, y_test_pred), \n",
    "           annot = True, fmt=\".0f\", annot_kws={\"size\": 18})"
   ]
  },
  {
   "cell_type": "code",
   "execution_count": null,
   "id": "49cba449",
   "metadata": {},
   "outputs": [],
   "source": []
  },
  {
   "cell_type": "code",
   "execution_count": null,
   "id": "51f3a24b",
   "metadata": {},
   "outputs": [],
   "source": []
  }
 ],
 "metadata": {
  "kernelspec": {
   "display_name": "Python 3 (ipykernel)",
   "language": "python",
   "name": "python3"
  },
  "language_info": {
   "codemirror_mode": {
    "name": "ipython",
    "version": 3
   },
   "file_extension": ".py",
   "mimetype": "text/x-python",
   "name": "python",
   "nbconvert_exporter": "python",
   "pygments_lexer": "ipython3",
   "version": "3.9.13"
  }
 },
 "nbformat": 4,
 "nbformat_minor": 5
}
